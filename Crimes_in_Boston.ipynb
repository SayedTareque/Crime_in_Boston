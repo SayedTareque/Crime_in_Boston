{
 "cells": [
  {
   "cell_type": "markdown",
   "id": "d28f0889",
   "metadata": {},
   "source": [
    "<h1 style=\"font-size:20px\">Import all the necessary libraries</h1>"
   ]
  },
  {
   "cell_type": "code",
   "execution_count": 1,
   "id": "0952cb75",
   "metadata": {},
   "outputs": [],
   "source": [
    "import numpy as np\n",
    "import pandas as pd\n",
    "import matplotlib.pyplot as plt\n",
    "import seaborn as sns\n",
    "\n",
    "# the matplotlib plots will appear directly below the cell in which the function was called.\n",
    "%matplotlib inline"
   ]
  },
  {
   "cell_type": "markdown",
   "id": "3162f278",
   "metadata": {},
   "source": [
    "<h1 style=\"font-size:20px\">Read the csv file and remove all the duplicates</h1>"
   ]
  },
  {
   "cell_type": "code",
   "execution_count": 2,
   "id": "605e3274",
   "metadata": {},
   "outputs": [],
   "source": [
    "# Read in the crime.csv file and use the timestamp as a datetime index\n",
    "crime = pd.read_csv(\"crime.csv\", encoding=\"ISO-8859-11\")"
   ]
  },
  {
   "cell_type": "code",
   "execution_count": 3,
   "id": "167e93c0",
   "metadata": {},
   "outputs": [
    {
     "data": {
      "text/html": [
       "<div>\n",
       "<style scoped>\n",
       "    .dataframe tbody tr th:only-of-type {\n",
       "        vertical-align: middle;\n",
       "    }\n",
       "\n",
       "    .dataframe tbody tr th {\n",
       "        vertical-align: top;\n",
       "    }\n",
       "\n",
       "    .dataframe thead th {\n",
       "        text-align: right;\n",
       "    }\n",
       "</style>\n",
       "<table border=\"1\" class=\"dataframe\">\n",
       "  <thead>\n",
       "    <tr style=\"text-align: right;\">\n",
       "      <th></th>\n",
       "      <th>INCIDENT_NUMBER</th>\n",
       "      <th>OFFENSE_CODE</th>\n",
       "      <th>OFFENSE_CODE_GROUP</th>\n",
       "      <th>OFFENSE_DESCRIPTION</th>\n",
       "      <th>DISTRICT</th>\n",
       "      <th>REPORTING_AREA</th>\n",
       "      <th>SHOOTING</th>\n",
       "      <th>OCCURRED_ON_DATE</th>\n",
       "      <th>YEAR</th>\n",
       "      <th>MONTH</th>\n",
       "      <th>DAY_OF_WEEK</th>\n",
       "      <th>HOUR</th>\n",
       "      <th>UCR_PART</th>\n",
       "      <th>STREET</th>\n",
       "      <th>Lat</th>\n",
       "      <th>Long</th>\n",
       "      <th>Location</th>\n",
       "    </tr>\n",
       "  </thead>\n",
       "  <tbody>\n",
       "    <tr>\n",
       "      <th>0</th>\n",
       "      <td>I182070945</td>\n",
       "      <td>619</td>\n",
       "      <td>Larceny</td>\n",
       "      <td>LARCENY ALL OTHERS</td>\n",
       "      <td>D14</td>\n",
       "      <td>808</td>\n",
       "      <td>NaN</td>\n",
       "      <td>2/9/18 13:00</td>\n",
       "      <td>2018</td>\n",
       "      <td>9</td>\n",
       "      <td>Sunday</td>\n",
       "      <td>13</td>\n",
       "      <td>Part One</td>\n",
       "      <td>LINCOLN ST</td>\n",
       "      <td>42.357791</td>\n",
       "      <td>-71.139371</td>\n",
       "      <td>(42.35779134, -71.13937053)</td>\n",
       "    </tr>\n",
       "    <tr>\n",
       "      <th>1</th>\n",
       "      <td>I182070943</td>\n",
       "      <td>1402</td>\n",
       "      <td>Vandalism</td>\n",
       "      <td>VANDALISM</td>\n",
       "      <td>C11</td>\n",
       "      <td>347</td>\n",
       "      <td>NaN</td>\n",
       "      <td>21/8/18 0:00</td>\n",
       "      <td>2018</td>\n",
       "      <td>8</td>\n",
       "      <td>Tuesday</td>\n",
       "      <td>0</td>\n",
       "      <td>Part Two</td>\n",
       "      <td>HECLA ST</td>\n",
       "      <td>42.306821</td>\n",
       "      <td>-71.060300</td>\n",
       "      <td>(42.30682138, -71.06030035)</td>\n",
       "    </tr>\n",
       "    <tr>\n",
       "      <th>2</th>\n",
       "      <td>I182070941</td>\n",
       "      <td>3410</td>\n",
       "      <td>Towed</td>\n",
       "      <td>TOWED MOTOR VEHICLE</td>\n",
       "      <td>D4</td>\n",
       "      <td>151</td>\n",
       "      <td>NaN</td>\n",
       "      <td>3/9/18 19:27</td>\n",
       "      <td>2018</td>\n",
       "      <td>9</td>\n",
       "      <td>Monday</td>\n",
       "      <td>19</td>\n",
       "      <td>Part Three</td>\n",
       "      <td>CAZENOVE ST</td>\n",
       "      <td>42.346589</td>\n",
       "      <td>-71.072429</td>\n",
       "      <td>(42.34658879, -71.07242943)</td>\n",
       "    </tr>\n",
       "    <tr>\n",
       "      <th>3</th>\n",
       "      <td>I182070940</td>\n",
       "      <td>3114</td>\n",
       "      <td>Investigate Property</td>\n",
       "      <td>INVESTIGATE PROPERTY</td>\n",
       "      <td>D4</td>\n",
       "      <td>272</td>\n",
       "      <td>NaN</td>\n",
       "      <td>3/9/18 21:16</td>\n",
       "      <td>2018</td>\n",
       "      <td>9</td>\n",
       "      <td>Monday</td>\n",
       "      <td>21</td>\n",
       "      <td>Part Three</td>\n",
       "      <td>NEWCOMB ST</td>\n",
       "      <td>42.334182</td>\n",
       "      <td>-71.078664</td>\n",
       "      <td>(42.33418175, -71.07866441)</td>\n",
       "    </tr>\n",
       "    <tr>\n",
       "      <th>4</th>\n",
       "      <td>I182070938</td>\n",
       "      <td>3114</td>\n",
       "      <td>Investigate Property</td>\n",
       "      <td>INVESTIGATE PROPERTY</td>\n",
       "      <td>B3</td>\n",
       "      <td>421</td>\n",
       "      <td>NaN</td>\n",
       "      <td>3/9/18 21:05</td>\n",
       "      <td>2018</td>\n",
       "      <td>9</td>\n",
       "      <td>Monday</td>\n",
       "      <td>21</td>\n",
       "      <td>Part Three</td>\n",
       "      <td>DELHI ST</td>\n",
       "      <td>42.275365</td>\n",
       "      <td>-71.090361</td>\n",
       "      <td>(42.27536542, -71.09036101)</td>\n",
       "    </tr>\n",
       "  </tbody>\n",
       "</table>\n",
       "</div>"
      ],
      "text/plain": [
       "  INCIDENT_NUMBER  OFFENSE_CODE    OFFENSE_CODE_GROUP   OFFENSE_DESCRIPTION  \\\n",
       "0      I182070945           619               Larceny    LARCENY ALL OTHERS   \n",
       "1      I182070943          1402             Vandalism             VANDALISM   \n",
       "2      I182070941          3410                 Towed   TOWED MOTOR VEHICLE   \n",
       "3      I182070940          3114  Investigate Property  INVESTIGATE PROPERTY   \n",
       "4      I182070938          3114  Investigate Property  INVESTIGATE PROPERTY   \n",
       "\n",
       "  DISTRICT REPORTING_AREA SHOOTING OCCURRED_ON_DATE  YEAR  MONTH DAY_OF_WEEK  \\\n",
       "0      D14            808      NaN     2/9/18 13:00  2018      9      Sunday   \n",
       "1      C11            347      NaN     21/8/18 0:00  2018      8     Tuesday   \n",
       "2       D4            151      NaN     3/9/18 19:27  2018      9      Monday   \n",
       "3       D4            272      NaN     3/9/18 21:16  2018      9      Monday   \n",
       "4       B3            421      NaN     3/9/18 21:05  2018      9      Monday   \n",
       "\n",
       "   HOUR    UCR_PART       STREET        Lat       Long  \\\n",
       "0    13    Part One   LINCOLN ST  42.357791 -71.139371   \n",
       "1     0    Part Two     HECLA ST  42.306821 -71.060300   \n",
       "2    19  Part Three  CAZENOVE ST  42.346589 -71.072429   \n",
       "3    21  Part Three   NEWCOMB ST  42.334182 -71.078664   \n",
       "4    21  Part Three     DELHI ST  42.275365 -71.090361   \n",
       "\n",
       "                      Location  \n",
       "0  (42.35779134, -71.13937053)  \n",
       "1  (42.30682138, -71.06030035)  \n",
       "2  (42.34658879, -71.07242943)  \n",
       "3  (42.33418175, -71.07866441)  \n",
       "4  (42.27536542, -71.09036101)  "
      ]
     },
     "execution_count": 3,
     "metadata": {},
     "output_type": "execute_result"
    }
   ],
   "source": [
    "crime.head() # Quick check on how the dataset looks like"
   ]
  },
  {
   "cell_type": "code",
   "execution_count": 4,
   "id": "a0a768f6",
   "metadata": {},
   "outputs": [
    {
     "data": {
      "text/plain": [
       "(319073, 17)"
      ]
     },
     "execution_count": 4,
     "metadata": {},
     "output_type": "execute_result"
    }
   ],
   "source": [
    "crime.shape # Checking the shape of the data. It has 319,073 rows and 17 columns"
   ]
  },
  {
   "cell_type": "code",
   "execution_count": 5,
   "id": "16f18e29",
   "metadata": {},
   "outputs": [
    {
     "data": {
      "text/plain": [
       "23"
      ]
     },
     "execution_count": 5,
     "metadata": {},
     "output_type": "execute_result"
    }
   ],
   "source": [
    "crime.duplicated().sum() # Counting the duplicate rows"
   ]
  },
  {
   "cell_type": "code",
   "execution_count": 6,
   "id": "f1ddfb12",
   "metadata": {},
   "outputs": [],
   "source": [
    "crime.drop_duplicates(inplace=True) # Dropping the duplicate rows"
   ]
  },
  {
   "cell_type": "code",
   "execution_count": 7,
   "id": "5b51a629",
   "metadata": {},
   "outputs": [
    {
     "data": {
      "text/plain": [
       "(319050, 17)"
      ]
     },
     "execution_count": 7,
     "metadata": {},
     "output_type": "execute_result"
    }
   ],
   "source": [
    "crime.shape # Checking the shape again to see if dropping the duplicate rows worked"
   ]
  },
  {
   "cell_type": "markdown",
   "id": "c4e0445a",
   "metadata": {},
   "source": [
    "<h1 style=\"font-size:20px\">Explore the dataset</h1>"
   ]
  },
  {
   "cell_type": "code",
   "execution_count": 8,
   "id": "677b9b88",
   "metadata": {},
   "outputs": [
    {
     "data": {
      "text/html": [
       "<div>\n",
       "<style scoped>\n",
       "    .dataframe tbody tr th:only-of-type {\n",
       "        vertical-align: middle;\n",
       "    }\n",
       "\n",
       "    .dataframe tbody tr th {\n",
       "        vertical-align: top;\n",
       "    }\n",
       "\n",
       "    .dataframe thead th {\n",
       "        text-align: right;\n",
       "    }\n",
       "</style>\n",
       "<table border=\"1\" class=\"dataframe\">\n",
       "  <thead>\n",
       "    <tr style=\"text-align: right;\">\n",
       "      <th></th>\n",
       "      <th>INCIDENT_NUMBER</th>\n",
       "      <th>OFFENSE_CODE</th>\n",
       "      <th>OFFENSE_CODE_GROUP</th>\n",
       "      <th>OFFENSE_DESCRIPTION</th>\n",
       "      <th>DISTRICT</th>\n",
       "      <th>REPORTING_AREA</th>\n",
       "      <th>SHOOTING</th>\n",
       "      <th>OCCURRED_ON_DATE</th>\n",
       "      <th>YEAR</th>\n",
       "      <th>MONTH</th>\n",
       "      <th>DAY_OF_WEEK</th>\n",
       "      <th>HOUR</th>\n",
       "      <th>UCR_PART</th>\n",
       "      <th>STREET</th>\n",
       "      <th>Lat</th>\n",
       "      <th>Long</th>\n",
       "      <th>Location</th>\n",
       "    </tr>\n",
       "  </thead>\n",
       "  <tbody>\n",
       "    <tr>\n",
       "      <th>0</th>\n",
       "      <td>I182070945</td>\n",
       "      <td>619</td>\n",
       "      <td>Larceny</td>\n",
       "      <td>LARCENY ALL OTHERS</td>\n",
       "      <td>D14</td>\n",
       "      <td>808</td>\n",
       "      <td>NaN</td>\n",
       "      <td>2/9/18 13:00</td>\n",
       "      <td>2018</td>\n",
       "      <td>9</td>\n",
       "      <td>Sunday</td>\n",
       "      <td>13</td>\n",
       "      <td>Part One</td>\n",
       "      <td>LINCOLN ST</td>\n",
       "      <td>42.357791</td>\n",
       "      <td>-71.139371</td>\n",
       "      <td>(42.35779134, -71.13937053)</td>\n",
       "    </tr>\n",
       "    <tr>\n",
       "      <th>1</th>\n",
       "      <td>I182070943</td>\n",
       "      <td>1402</td>\n",
       "      <td>Vandalism</td>\n",
       "      <td>VANDALISM</td>\n",
       "      <td>C11</td>\n",
       "      <td>347</td>\n",
       "      <td>NaN</td>\n",
       "      <td>21/8/18 0:00</td>\n",
       "      <td>2018</td>\n",
       "      <td>8</td>\n",
       "      <td>Tuesday</td>\n",
       "      <td>0</td>\n",
       "      <td>Part Two</td>\n",
       "      <td>HECLA ST</td>\n",
       "      <td>42.306821</td>\n",
       "      <td>-71.060300</td>\n",
       "      <td>(42.30682138, -71.06030035)</td>\n",
       "    </tr>\n",
       "    <tr>\n",
       "      <th>2</th>\n",
       "      <td>I182070941</td>\n",
       "      <td>3410</td>\n",
       "      <td>Towed</td>\n",
       "      <td>TOWED MOTOR VEHICLE</td>\n",
       "      <td>D4</td>\n",
       "      <td>151</td>\n",
       "      <td>NaN</td>\n",
       "      <td>3/9/18 19:27</td>\n",
       "      <td>2018</td>\n",
       "      <td>9</td>\n",
       "      <td>Monday</td>\n",
       "      <td>19</td>\n",
       "      <td>Part Three</td>\n",
       "      <td>CAZENOVE ST</td>\n",
       "      <td>42.346589</td>\n",
       "      <td>-71.072429</td>\n",
       "      <td>(42.34658879, -71.07242943)</td>\n",
       "    </tr>\n",
       "    <tr>\n",
       "      <th>3</th>\n",
       "      <td>I182070940</td>\n",
       "      <td>3114</td>\n",
       "      <td>Investigate Property</td>\n",
       "      <td>INVESTIGATE PROPERTY</td>\n",
       "      <td>D4</td>\n",
       "      <td>272</td>\n",
       "      <td>NaN</td>\n",
       "      <td>3/9/18 21:16</td>\n",
       "      <td>2018</td>\n",
       "      <td>9</td>\n",
       "      <td>Monday</td>\n",
       "      <td>21</td>\n",
       "      <td>Part Three</td>\n",
       "      <td>NEWCOMB ST</td>\n",
       "      <td>42.334182</td>\n",
       "      <td>-71.078664</td>\n",
       "      <td>(42.33418175, -71.07866441)</td>\n",
       "    </tr>\n",
       "    <tr>\n",
       "      <th>4</th>\n",
       "      <td>I182070938</td>\n",
       "      <td>3114</td>\n",
       "      <td>Investigate Property</td>\n",
       "      <td>INVESTIGATE PROPERTY</td>\n",
       "      <td>B3</td>\n",
       "      <td>421</td>\n",
       "      <td>NaN</td>\n",
       "      <td>3/9/18 21:05</td>\n",
       "      <td>2018</td>\n",
       "      <td>9</td>\n",
       "      <td>Monday</td>\n",
       "      <td>21</td>\n",
       "      <td>Part Three</td>\n",
       "      <td>DELHI ST</td>\n",
       "      <td>42.275365</td>\n",
       "      <td>-71.090361</td>\n",
       "      <td>(42.27536542, -71.09036101)</td>\n",
       "    </tr>\n",
       "  </tbody>\n",
       "</table>\n",
       "</div>"
      ],
      "text/plain": [
       "  INCIDENT_NUMBER  OFFENSE_CODE    OFFENSE_CODE_GROUP   OFFENSE_DESCRIPTION  \\\n",
       "0      I182070945           619               Larceny    LARCENY ALL OTHERS   \n",
       "1      I182070943          1402             Vandalism             VANDALISM   \n",
       "2      I182070941          3410                 Towed   TOWED MOTOR VEHICLE   \n",
       "3      I182070940          3114  Investigate Property  INVESTIGATE PROPERTY   \n",
       "4      I182070938          3114  Investigate Property  INVESTIGATE PROPERTY   \n",
       "\n",
       "  DISTRICT REPORTING_AREA SHOOTING OCCURRED_ON_DATE  YEAR  MONTH DAY_OF_WEEK  \\\n",
       "0      D14            808      NaN     2/9/18 13:00  2018      9      Sunday   \n",
       "1      C11            347      NaN     21/8/18 0:00  2018      8     Tuesday   \n",
       "2       D4            151      NaN     3/9/18 19:27  2018      9      Monday   \n",
       "3       D4            272      NaN     3/9/18 21:16  2018      9      Monday   \n",
       "4       B3            421      NaN     3/9/18 21:05  2018      9      Monday   \n",
       "\n",
       "   HOUR    UCR_PART       STREET        Lat       Long  \\\n",
       "0    13    Part One   LINCOLN ST  42.357791 -71.139371   \n",
       "1     0    Part Two     HECLA ST  42.306821 -71.060300   \n",
       "2    19  Part Three  CAZENOVE ST  42.346589 -71.072429   \n",
       "3    21  Part Three   NEWCOMB ST  42.334182 -71.078664   \n",
       "4    21  Part Three     DELHI ST  42.275365 -71.090361   \n",
       "\n",
       "                      Location  \n",
       "0  (42.35779134, -71.13937053)  \n",
       "1  (42.30682138, -71.06030035)  \n",
       "2  (42.34658879, -71.07242943)  \n",
       "3  (42.33418175, -71.07866441)  \n",
       "4  (42.27536542, -71.09036101)  "
      ]
     },
     "execution_count": 8,
     "metadata": {},
     "output_type": "execute_result"
    }
   ],
   "source": [
    "crime.head()"
   ]
  },
  {
   "cell_type": "code",
   "execution_count": 9,
   "id": "a788a185",
   "metadata": {},
   "outputs": [
    {
     "data": {
      "text/html": [
       "<div>\n",
       "<style scoped>\n",
       "    .dataframe tbody tr th:only-of-type {\n",
       "        vertical-align: middle;\n",
       "    }\n",
       "\n",
       "    .dataframe tbody tr th {\n",
       "        vertical-align: top;\n",
       "    }\n",
       "\n",
       "    .dataframe thead th {\n",
       "        text-align: right;\n",
       "    }\n",
       "</style>\n",
       "<table border=\"1\" class=\"dataframe\">\n",
       "  <thead>\n",
       "    <tr style=\"text-align: right;\">\n",
       "      <th></th>\n",
       "      <th>INCIDENT_NUMBER</th>\n",
       "      <th>OFFENSE_CODE</th>\n",
       "      <th>OFFENSE_CODE_GROUP</th>\n",
       "      <th>OFFENSE_DESCRIPTION</th>\n",
       "      <th>DISTRICT</th>\n",
       "      <th>REPORTING_AREA</th>\n",
       "      <th>SHOOTING</th>\n",
       "      <th>OCCURRED_ON_DATE</th>\n",
       "      <th>YEAR</th>\n",
       "      <th>MONTH</th>\n",
       "      <th>DAY_OF_WEEK</th>\n",
       "      <th>HOUR</th>\n",
       "      <th>UCR_PART</th>\n",
       "      <th>STREET</th>\n",
       "      <th>Lat</th>\n",
       "      <th>Long</th>\n",
       "      <th>Location</th>\n",
       "    </tr>\n",
       "  </thead>\n",
       "  <tbody>\n",
       "    <tr>\n",
       "      <th>319068</th>\n",
       "      <td>I050310906-00</td>\n",
       "      <td>3125</td>\n",
       "      <td>Warrant Arrests</td>\n",
       "      <td>WARRANT ARREST</td>\n",
       "      <td>D4</td>\n",
       "      <td>285</td>\n",
       "      <td>NaN</td>\n",
       "      <td>5/6/16 17:25</td>\n",
       "      <td>2016</td>\n",
       "      <td>6</td>\n",
       "      <td>Sunday</td>\n",
       "      <td>17</td>\n",
       "      <td>Part Three</td>\n",
       "      <td>COVENTRY ST</td>\n",
       "      <td>42.336951</td>\n",
       "      <td>-71.085748</td>\n",
       "      <td>(42.33695098, -71.08574813)</td>\n",
       "    </tr>\n",
       "    <tr>\n",
       "      <th>319069</th>\n",
       "      <td>I030217815-08</td>\n",
       "      <td>111</td>\n",
       "      <td>Homicide</td>\n",
       "      <td>MURDER, NON-NEGLIGIENT MANSLAUGHTER</td>\n",
       "      <td>E18</td>\n",
       "      <td>520</td>\n",
       "      <td>NaN</td>\n",
       "      <td>9/7/15 13:38</td>\n",
       "      <td>2015</td>\n",
       "      <td>7</td>\n",
       "      <td>Thursday</td>\n",
       "      <td>13</td>\n",
       "      <td>Part One</td>\n",
       "      <td>RIVER ST</td>\n",
       "      <td>42.255926</td>\n",
       "      <td>-71.123172</td>\n",
       "      <td>(42.25592648, -71.12317207)</td>\n",
       "    </tr>\n",
       "    <tr>\n",
       "      <th>319070</th>\n",
       "      <td>I030217815-08</td>\n",
       "      <td>3125</td>\n",
       "      <td>Warrant Arrests</td>\n",
       "      <td>WARRANT ARREST</td>\n",
       "      <td>E18</td>\n",
       "      <td>520</td>\n",
       "      <td>NaN</td>\n",
       "      <td>9/7/15 13:38</td>\n",
       "      <td>2015</td>\n",
       "      <td>7</td>\n",
       "      <td>Thursday</td>\n",
       "      <td>13</td>\n",
       "      <td>Part Three</td>\n",
       "      <td>RIVER ST</td>\n",
       "      <td>42.255926</td>\n",
       "      <td>-71.123172</td>\n",
       "      <td>(42.25592648, -71.12317207)</td>\n",
       "    </tr>\n",
       "    <tr>\n",
       "      <th>319071</th>\n",
       "      <td>I010370257-00</td>\n",
       "      <td>3125</td>\n",
       "      <td>Warrant Arrests</td>\n",
       "      <td>WARRANT ARREST</td>\n",
       "      <td>E13</td>\n",
       "      <td>569</td>\n",
       "      <td>NaN</td>\n",
       "      <td>31/5/16 19:35</td>\n",
       "      <td>2016</td>\n",
       "      <td>5</td>\n",
       "      <td>Tuesday</td>\n",
       "      <td>19</td>\n",
       "      <td>Part Three</td>\n",
       "      <td>NEW WASHINGTON ST</td>\n",
       "      <td>42.302333</td>\n",
       "      <td>-71.111565</td>\n",
       "      <td>(42.30233307, -71.11156487)</td>\n",
       "    </tr>\n",
       "    <tr>\n",
       "      <th>319072</th>\n",
       "      <td>142052550</td>\n",
       "      <td>3125</td>\n",
       "      <td>Warrant Arrests</td>\n",
       "      <td>WARRANT ARREST</td>\n",
       "      <td>D4</td>\n",
       "      <td>903</td>\n",
       "      <td>NaN</td>\n",
       "      <td>22/6/15 0:12</td>\n",
       "      <td>2015</td>\n",
       "      <td>6</td>\n",
       "      <td>Monday</td>\n",
       "      <td>0</td>\n",
       "      <td>Part Three</td>\n",
       "      <td>WASHINGTON ST</td>\n",
       "      <td>42.333839</td>\n",
       "      <td>-71.080290</td>\n",
       "      <td>(42.33383935, -71.08029038)</td>\n",
       "    </tr>\n",
       "  </tbody>\n",
       "</table>\n",
       "</div>"
      ],
      "text/plain": [
       "       INCIDENT_NUMBER  OFFENSE_CODE OFFENSE_CODE_GROUP  \\\n",
       "319068   I050310906-00          3125    Warrant Arrests   \n",
       "319069   I030217815-08           111           Homicide   \n",
       "319070   I030217815-08          3125    Warrant Arrests   \n",
       "319071   I010370257-00          3125    Warrant Arrests   \n",
       "319072       142052550          3125    Warrant Arrests   \n",
       "\n",
       "                        OFFENSE_DESCRIPTION DISTRICT REPORTING_AREA SHOOTING  \\\n",
       "319068                       WARRANT ARREST       D4            285      NaN   \n",
       "319069  MURDER, NON-NEGLIGIENT MANSLAUGHTER      E18            520      NaN   \n",
       "319070                       WARRANT ARREST      E18            520      NaN   \n",
       "319071                       WARRANT ARREST      E13            569      NaN   \n",
       "319072                       WARRANT ARREST       D4            903      NaN   \n",
       "\n",
       "       OCCURRED_ON_DATE  YEAR  MONTH DAY_OF_WEEK  HOUR    UCR_PART  \\\n",
       "319068     5/6/16 17:25  2016      6      Sunday    17  Part Three   \n",
       "319069     9/7/15 13:38  2015      7    Thursday    13    Part One   \n",
       "319070     9/7/15 13:38  2015      7    Thursday    13  Part Three   \n",
       "319071    31/5/16 19:35  2016      5     Tuesday    19  Part Three   \n",
       "319072     22/6/15 0:12  2015      6      Monday     0  Part Three   \n",
       "\n",
       "                   STREET        Lat       Long                     Location  \n",
       "319068        COVENTRY ST  42.336951 -71.085748  (42.33695098, -71.08574813)  \n",
       "319069           RIVER ST  42.255926 -71.123172  (42.25592648, -71.12317207)  \n",
       "319070           RIVER ST  42.255926 -71.123172  (42.25592648, -71.12317207)  \n",
       "319071  NEW WASHINGTON ST  42.302333 -71.111565  (42.30233307, -71.11156487)  \n",
       "319072      WASHINGTON ST  42.333839 -71.080290  (42.33383935, -71.08029038)  "
      ]
     },
     "execution_count": 9,
     "metadata": {},
     "output_type": "execute_result"
    }
   ],
   "source": [
    "crime.tail()"
   ]
  },
  {
   "cell_type": "code",
   "execution_count": 10,
   "id": "895b9c6b",
   "metadata": {},
   "outputs": [],
   "source": [
    "pd.options.display.max_rows = 10"
   ]
  },
  {
   "cell_type": "code",
   "execution_count": 11,
   "id": "bb9e8137",
   "metadata": {},
   "outputs": [
    {
     "data": {
      "text/html": [
       "<div>\n",
       "<style scoped>\n",
       "    .dataframe tbody tr th:only-of-type {\n",
       "        vertical-align: middle;\n",
       "    }\n",
       "\n",
       "    .dataframe tbody tr th {\n",
       "        vertical-align: top;\n",
       "    }\n",
       "\n",
       "    .dataframe thead th {\n",
       "        text-align: right;\n",
       "    }\n",
       "</style>\n",
       "<table border=\"1\" class=\"dataframe\">\n",
       "  <thead>\n",
       "    <tr style=\"text-align: right;\">\n",
       "      <th></th>\n",
       "      <th>INCIDENT_NUMBER</th>\n",
       "      <th>OFFENSE_CODE</th>\n",
       "      <th>OFFENSE_CODE_GROUP</th>\n",
       "      <th>OFFENSE_DESCRIPTION</th>\n",
       "      <th>DISTRICT</th>\n",
       "      <th>REPORTING_AREA</th>\n",
       "      <th>SHOOTING</th>\n",
       "      <th>OCCURRED_ON_DATE</th>\n",
       "      <th>YEAR</th>\n",
       "      <th>MONTH</th>\n",
       "      <th>DAY_OF_WEEK</th>\n",
       "      <th>HOUR</th>\n",
       "      <th>UCR_PART</th>\n",
       "      <th>STREET</th>\n",
       "      <th>Lat</th>\n",
       "      <th>Long</th>\n",
       "      <th>Location</th>\n",
       "    </tr>\n",
       "  </thead>\n",
       "  <tbody>\n",
       "    <tr>\n",
       "      <th>0</th>\n",
       "      <td>I182070945</td>\n",
       "      <td>619</td>\n",
       "      <td>Larceny</td>\n",
       "      <td>LARCENY ALL OTHERS</td>\n",
       "      <td>D14</td>\n",
       "      <td>808</td>\n",
       "      <td>NaN</td>\n",
       "      <td>2/9/18 13:00</td>\n",
       "      <td>2018</td>\n",
       "      <td>9</td>\n",
       "      <td>Sunday</td>\n",
       "      <td>13</td>\n",
       "      <td>Part One</td>\n",
       "      <td>LINCOLN ST</td>\n",
       "      <td>42.357791</td>\n",
       "      <td>-71.139371</td>\n",
       "      <td>(42.35779134, -71.13937053)</td>\n",
       "    </tr>\n",
       "    <tr>\n",
       "      <th>1</th>\n",
       "      <td>I182070943</td>\n",
       "      <td>1402</td>\n",
       "      <td>Vandalism</td>\n",
       "      <td>VANDALISM</td>\n",
       "      <td>C11</td>\n",
       "      <td>347</td>\n",
       "      <td>NaN</td>\n",
       "      <td>21/8/18 0:00</td>\n",
       "      <td>2018</td>\n",
       "      <td>8</td>\n",
       "      <td>Tuesday</td>\n",
       "      <td>0</td>\n",
       "      <td>Part Two</td>\n",
       "      <td>HECLA ST</td>\n",
       "      <td>42.306821</td>\n",
       "      <td>-71.060300</td>\n",
       "      <td>(42.30682138, -71.06030035)</td>\n",
       "    </tr>\n",
       "    <tr>\n",
       "      <th>2</th>\n",
       "      <td>I182070941</td>\n",
       "      <td>3410</td>\n",
       "      <td>Towed</td>\n",
       "      <td>TOWED MOTOR VEHICLE</td>\n",
       "      <td>D4</td>\n",
       "      <td>151</td>\n",
       "      <td>NaN</td>\n",
       "      <td>3/9/18 19:27</td>\n",
       "      <td>2018</td>\n",
       "      <td>9</td>\n",
       "      <td>Monday</td>\n",
       "      <td>19</td>\n",
       "      <td>Part Three</td>\n",
       "      <td>CAZENOVE ST</td>\n",
       "      <td>42.346589</td>\n",
       "      <td>-71.072429</td>\n",
       "      <td>(42.34658879, -71.07242943)</td>\n",
       "    </tr>\n",
       "    <tr>\n",
       "      <th>3</th>\n",
       "      <td>I182070940</td>\n",
       "      <td>3114</td>\n",
       "      <td>Investigate Property</td>\n",
       "      <td>INVESTIGATE PROPERTY</td>\n",
       "      <td>D4</td>\n",
       "      <td>272</td>\n",
       "      <td>NaN</td>\n",
       "      <td>3/9/18 21:16</td>\n",
       "      <td>2018</td>\n",
       "      <td>9</td>\n",
       "      <td>Monday</td>\n",
       "      <td>21</td>\n",
       "      <td>Part Three</td>\n",
       "      <td>NEWCOMB ST</td>\n",
       "      <td>42.334182</td>\n",
       "      <td>-71.078664</td>\n",
       "      <td>(42.33418175, -71.07866441)</td>\n",
       "    </tr>\n",
       "    <tr>\n",
       "      <th>4</th>\n",
       "      <td>I182070938</td>\n",
       "      <td>3114</td>\n",
       "      <td>Investigate Property</td>\n",
       "      <td>INVESTIGATE PROPERTY</td>\n",
       "      <td>B3</td>\n",
       "      <td>421</td>\n",
       "      <td>NaN</td>\n",
       "      <td>3/9/18 21:05</td>\n",
       "      <td>2018</td>\n",
       "      <td>9</td>\n",
       "      <td>Monday</td>\n",
       "      <td>21</td>\n",
       "      <td>Part Three</td>\n",
       "      <td>DELHI ST</td>\n",
       "      <td>42.275365</td>\n",
       "      <td>-71.090361</td>\n",
       "      <td>(42.27536542, -71.09036101)</td>\n",
       "    </tr>\n",
       "    <tr>\n",
       "      <th>...</th>\n",
       "      <td>...</td>\n",
       "      <td>...</td>\n",
       "      <td>...</td>\n",
       "      <td>...</td>\n",
       "      <td>...</td>\n",
       "      <td>...</td>\n",
       "      <td>...</td>\n",
       "      <td>...</td>\n",
       "      <td>...</td>\n",
       "      <td>...</td>\n",
       "      <td>...</td>\n",
       "      <td>...</td>\n",
       "      <td>...</td>\n",
       "      <td>...</td>\n",
       "      <td>...</td>\n",
       "      <td>...</td>\n",
       "      <td>...</td>\n",
       "    </tr>\n",
       "    <tr>\n",
       "      <th>319068</th>\n",
       "      <td>I050310906-00</td>\n",
       "      <td>3125</td>\n",
       "      <td>Warrant Arrests</td>\n",
       "      <td>WARRANT ARREST</td>\n",
       "      <td>D4</td>\n",
       "      <td>285</td>\n",
       "      <td>NaN</td>\n",
       "      <td>5/6/16 17:25</td>\n",
       "      <td>2016</td>\n",
       "      <td>6</td>\n",
       "      <td>Sunday</td>\n",
       "      <td>17</td>\n",
       "      <td>Part Three</td>\n",
       "      <td>COVENTRY ST</td>\n",
       "      <td>42.336951</td>\n",
       "      <td>-71.085748</td>\n",
       "      <td>(42.33695098, -71.08574813)</td>\n",
       "    </tr>\n",
       "    <tr>\n",
       "      <th>319069</th>\n",
       "      <td>I030217815-08</td>\n",
       "      <td>111</td>\n",
       "      <td>Homicide</td>\n",
       "      <td>MURDER, NON-NEGLIGIENT MANSLAUGHTER</td>\n",
       "      <td>E18</td>\n",
       "      <td>520</td>\n",
       "      <td>NaN</td>\n",
       "      <td>9/7/15 13:38</td>\n",
       "      <td>2015</td>\n",
       "      <td>7</td>\n",
       "      <td>Thursday</td>\n",
       "      <td>13</td>\n",
       "      <td>Part One</td>\n",
       "      <td>RIVER ST</td>\n",
       "      <td>42.255926</td>\n",
       "      <td>-71.123172</td>\n",
       "      <td>(42.25592648, -71.12317207)</td>\n",
       "    </tr>\n",
       "    <tr>\n",
       "      <th>319070</th>\n",
       "      <td>I030217815-08</td>\n",
       "      <td>3125</td>\n",
       "      <td>Warrant Arrests</td>\n",
       "      <td>WARRANT ARREST</td>\n",
       "      <td>E18</td>\n",
       "      <td>520</td>\n",
       "      <td>NaN</td>\n",
       "      <td>9/7/15 13:38</td>\n",
       "      <td>2015</td>\n",
       "      <td>7</td>\n",
       "      <td>Thursday</td>\n",
       "      <td>13</td>\n",
       "      <td>Part Three</td>\n",
       "      <td>RIVER ST</td>\n",
       "      <td>42.255926</td>\n",
       "      <td>-71.123172</td>\n",
       "      <td>(42.25592648, -71.12317207)</td>\n",
       "    </tr>\n",
       "    <tr>\n",
       "      <th>319071</th>\n",
       "      <td>I010370257-00</td>\n",
       "      <td>3125</td>\n",
       "      <td>Warrant Arrests</td>\n",
       "      <td>WARRANT ARREST</td>\n",
       "      <td>E13</td>\n",
       "      <td>569</td>\n",
       "      <td>NaN</td>\n",
       "      <td>31/5/16 19:35</td>\n",
       "      <td>2016</td>\n",
       "      <td>5</td>\n",
       "      <td>Tuesday</td>\n",
       "      <td>19</td>\n",
       "      <td>Part Three</td>\n",
       "      <td>NEW WASHINGTON ST</td>\n",
       "      <td>42.302333</td>\n",
       "      <td>-71.111565</td>\n",
       "      <td>(42.30233307, -71.11156487)</td>\n",
       "    </tr>\n",
       "    <tr>\n",
       "      <th>319072</th>\n",
       "      <td>142052550</td>\n",
       "      <td>3125</td>\n",
       "      <td>Warrant Arrests</td>\n",
       "      <td>WARRANT ARREST</td>\n",
       "      <td>D4</td>\n",
       "      <td>903</td>\n",
       "      <td>NaN</td>\n",
       "      <td>22/6/15 0:12</td>\n",
       "      <td>2015</td>\n",
       "      <td>6</td>\n",
       "      <td>Monday</td>\n",
       "      <td>0</td>\n",
       "      <td>Part Three</td>\n",
       "      <td>WASHINGTON ST</td>\n",
       "      <td>42.333839</td>\n",
       "      <td>-71.080290</td>\n",
       "      <td>(42.33383935, -71.08029038)</td>\n",
       "    </tr>\n",
       "  </tbody>\n",
       "</table>\n",
       "<p>319050 rows × 17 columns</p>\n",
       "</div>"
      ],
      "text/plain": [
       "       INCIDENT_NUMBER  OFFENSE_CODE    OFFENSE_CODE_GROUP  \\\n",
       "0           I182070945           619               Larceny   \n",
       "1           I182070943          1402             Vandalism   \n",
       "2           I182070941          3410                 Towed   \n",
       "3           I182070940          3114  Investigate Property   \n",
       "4           I182070938          3114  Investigate Property   \n",
       "...                ...           ...                   ...   \n",
       "319068   I050310906-00          3125       Warrant Arrests   \n",
       "319069   I030217815-08           111              Homicide   \n",
       "319070   I030217815-08          3125       Warrant Arrests   \n",
       "319071   I010370257-00          3125       Warrant Arrests   \n",
       "319072       142052550          3125       Warrant Arrests   \n",
       "\n",
       "                        OFFENSE_DESCRIPTION DISTRICT REPORTING_AREA SHOOTING  \\\n",
       "0                        LARCENY ALL OTHERS      D14            808      NaN   \n",
       "1                                 VANDALISM      C11            347      NaN   \n",
       "2                       TOWED MOTOR VEHICLE       D4            151      NaN   \n",
       "3                      INVESTIGATE PROPERTY       D4            272      NaN   \n",
       "4                      INVESTIGATE PROPERTY       B3            421      NaN   \n",
       "...                                     ...      ...            ...      ...   \n",
       "319068                       WARRANT ARREST       D4            285      NaN   \n",
       "319069  MURDER, NON-NEGLIGIENT MANSLAUGHTER      E18            520      NaN   \n",
       "319070                       WARRANT ARREST      E18            520      NaN   \n",
       "319071                       WARRANT ARREST      E13            569      NaN   \n",
       "319072                       WARRANT ARREST       D4            903      NaN   \n",
       "\n",
       "       OCCURRED_ON_DATE  YEAR  MONTH DAY_OF_WEEK  HOUR    UCR_PART  \\\n",
       "0          2/9/18 13:00  2018      9      Sunday    13    Part One   \n",
       "1          21/8/18 0:00  2018      8     Tuesday     0    Part Two   \n",
       "2          3/9/18 19:27  2018      9      Monday    19  Part Three   \n",
       "3          3/9/18 21:16  2018      9      Monday    21  Part Three   \n",
       "4          3/9/18 21:05  2018      9      Monday    21  Part Three   \n",
       "...                 ...   ...    ...         ...   ...         ...   \n",
       "319068     5/6/16 17:25  2016      6      Sunday    17  Part Three   \n",
       "319069     9/7/15 13:38  2015      7    Thursday    13    Part One   \n",
       "319070     9/7/15 13:38  2015      7    Thursday    13  Part Three   \n",
       "319071    31/5/16 19:35  2016      5     Tuesday    19  Part Three   \n",
       "319072     22/6/15 0:12  2015      6      Monday     0  Part Three   \n",
       "\n",
       "                   STREET        Lat       Long                     Location  \n",
       "0              LINCOLN ST  42.357791 -71.139371  (42.35779134, -71.13937053)  \n",
       "1                HECLA ST  42.306821 -71.060300  (42.30682138, -71.06030035)  \n",
       "2             CAZENOVE ST  42.346589 -71.072429  (42.34658879, -71.07242943)  \n",
       "3              NEWCOMB ST  42.334182 -71.078664  (42.33418175, -71.07866441)  \n",
       "4                DELHI ST  42.275365 -71.090361  (42.27536542, -71.09036101)  \n",
       "...                   ...        ...        ...                          ...  \n",
       "319068        COVENTRY ST  42.336951 -71.085748  (42.33695098, -71.08574813)  \n",
       "319069           RIVER ST  42.255926 -71.123172  (42.25592648, -71.12317207)  \n",
       "319070           RIVER ST  42.255926 -71.123172  (42.25592648, -71.12317207)  \n",
       "319071  NEW WASHINGTON ST  42.302333 -71.111565  (42.30233307, -71.11156487)  \n",
       "319072      WASHINGTON ST  42.333839 -71.080290  (42.33383935, -71.08029038)  \n",
       "\n",
       "[319050 rows x 17 columns]"
      ]
     },
     "execution_count": 11,
     "metadata": {},
     "output_type": "execute_result"
    }
   ],
   "source": [
    "crime"
   ]
  },
  {
   "cell_type": "code",
   "execution_count": 12,
   "id": "342b2619",
   "metadata": {},
   "outputs": [
    {
     "name": "stdout",
     "output_type": "stream",
     "text": [
      "<class 'pandas.core.frame.DataFrame'>\n",
      "Int64Index: 319050 entries, 0 to 319072\n",
      "Data columns (total 17 columns):\n",
      " #   Column               Non-Null Count   Dtype  \n",
      "---  ------               --------------   -----  \n",
      " 0   INCIDENT_NUMBER      319050 non-null  object \n",
      " 1   OFFENSE_CODE         319050 non-null  int64  \n",
      " 2   OFFENSE_CODE_GROUP   319050 non-null  object \n",
      " 3   OFFENSE_DESCRIPTION  319050 non-null  object \n",
      " 4   DISTRICT             317285 non-null  object \n",
      " 5   REPORTING_AREA       319050 non-null  object \n",
      " 6   SHOOTING             1019 non-null    object \n",
      " 7   OCCURRED_ON_DATE     319050 non-null  object \n",
      " 8   YEAR                 319050 non-null  int64  \n",
      " 9   MONTH                319050 non-null  int64  \n",
      " 10  DAY_OF_WEEK          319050 non-null  object \n",
      " 11  HOUR                 319050 non-null  int64  \n",
      " 12  UCR_PART             318960 non-null  object \n",
      " 13  STREET               308179 non-null  object \n",
      " 14  Lat                  299052 non-null  float64\n",
      " 15  Long                 299052 non-null  float64\n",
      " 16  Location             319050 non-null  object \n",
      "dtypes: float64(2), int64(4), object(11)\n",
      "memory usage: 43.8+ MB\n"
     ]
    }
   ],
   "source": [
    "crime.info() # Summary information about the dataframe"
   ]
  },
  {
   "cell_type": "code",
   "execution_count": 13,
   "id": "3a2d76cd",
   "metadata": {},
   "outputs": [],
   "source": [
    "# Changing the data type from object to datetime for the OCCURRED_ON_DATE column\n",
    "crime.OCCURRED_ON_DATE=pd.to_datetime(crime.OCCURRED_ON_DATE)"
   ]
  },
  {
   "cell_type": "code",
   "execution_count": 14,
   "id": "e7296a77",
   "metadata": {
    "scrolled": false
   },
   "outputs": [
    {
     "name": "stdout",
     "output_type": "stream",
     "text": [
      "<class 'pandas.core.frame.DataFrame'>\n",
      "Int64Index: 319050 entries, 0 to 319072\n",
      "Data columns (total 17 columns):\n",
      " #   Column               Non-Null Count   Dtype         \n",
      "---  ------               --------------   -----         \n",
      " 0   INCIDENT_NUMBER      319050 non-null  object        \n",
      " 1   OFFENSE_CODE         319050 non-null  int64         \n",
      " 2   OFFENSE_CODE_GROUP   319050 non-null  object        \n",
      " 3   OFFENSE_DESCRIPTION  319050 non-null  object        \n",
      " 4   DISTRICT             317285 non-null  object        \n",
      " 5   REPORTING_AREA       319050 non-null  object        \n",
      " 6   SHOOTING             1019 non-null    object        \n",
      " 7   OCCURRED_ON_DATE     319050 non-null  datetime64[ns]\n",
      " 8   YEAR                 319050 non-null  int64         \n",
      " 9   MONTH                319050 non-null  int64         \n",
      " 10  DAY_OF_WEEK          319050 non-null  object        \n",
      " 11  HOUR                 319050 non-null  int64         \n",
      " 12  UCR_PART             318960 non-null  object        \n",
      " 13  STREET               308179 non-null  object        \n",
      " 14  Lat                  299052 non-null  float64       \n",
      " 15  Long                 299052 non-null  float64       \n",
      " 16  Location             319050 non-null  object        \n",
      "dtypes: datetime64[ns](1), float64(2), int64(4), object(10)\n",
      "memory usage: 43.8+ MB\n"
     ]
    }
   ],
   "source": [
    "crime.info()"
   ]
  },
  {
   "cell_type": "code",
   "execution_count": 15,
   "id": "c092161d",
   "metadata": {},
   "outputs": [
    {
     "data": {
      "text/plain": [
       "0         2018\n",
       "1         2018\n",
       "2         2018\n",
       "3         2018\n",
       "4         2018\n",
       "          ... \n",
       "319068    2016\n",
       "319069    2015\n",
       "319070    2015\n",
       "319071    2016\n",
       "319072    2015\n",
       "Name: OCCURRED_ON_DATE, Length: 319050, dtype: int64"
      ]
     },
     "execution_count": 15,
     "metadata": {},
     "output_type": "execute_result"
    }
   ],
   "source": [
    "crime.OCCURRED_ON_DATE.dt.year"
   ]
  },
  {
   "cell_type": "code",
   "execution_count": 16,
   "id": "c9e17bde",
   "metadata": {},
   "outputs": [
    {
     "data": {
      "text/plain": [
       "0         2\n",
       "1         8\n",
       "2         3\n",
       "3         3\n",
       "4         3\n",
       "         ..\n",
       "319068    5\n",
       "319069    9\n",
       "319070    9\n",
       "319071    5\n",
       "319072    6\n",
       "Name: OCCURRED_ON_DATE, Length: 319050, dtype: int64"
      ]
     },
     "execution_count": 16,
     "metadata": {},
     "output_type": "execute_result"
    }
   ],
   "source": [
    "crime.OCCURRED_ON_DATE.dt.month"
   ]
  },
  {
   "cell_type": "code",
   "execution_count": 17,
   "id": "33df6c6b",
   "metadata": {},
   "outputs": [
    {
     "name": "stderr",
     "output_type": "stream",
     "text": [
      "/var/folders/lx/xc54m60d56l8q1cy14x9jf2h0000gn/T/ipykernel_3405/2588699237.py:1: FutureWarning: Series.dt.weekofyear and Series.dt.week have been deprecated.  Please use Series.dt.isocalendar().week instead.\n",
      "  crime.OCCURRED_ON_DATE.dt.week\n"
     ]
    },
    {
     "data": {
      "text/plain": [
       "0          6\n",
       "1         34\n",
       "2         10\n",
       "3         10\n",
       "4         10\n",
       "          ..\n",
       "319068    18\n",
       "319069    37\n",
       "319070    37\n",
       "319071    22\n",
       "319072    26\n",
       "Name: OCCURRED_ON_DATE, Length: 319050, dtype: int64"
      ]
     },
     "execution_count": 17,
     "metadata": {},
     "output_type": "execute_result"
    }
   ],
   "source": [
    "crime.OCCURRED_ON_DATE.dt.week"
   ]
  },
  {
   "cell_type": "code",
   "execution_count": 18,
   "id": "dc345815",
   "metadata": {},
   "outputs": [
    {
     "data": {
      "text/plain": [
       "0         13\n",
       "1          0\n",
       "2         19\n",
       "3         21\n",
       "4         21\n",
       "          ..\n",
       "319068    17\n",
       "319069    13\n",
       "319070    13\n",
       "319071    19\n",
       "319072     0\n",
       "Name: OCCURRED_ON_DATE, Length: 319050, dtype: int64"
      ]
     },
     "execution_count": 18,
     "metadata": {},
     "output_type": "execute_result"
    }
   ],
   "source": [
    "crime.OCCURRED_ON_DATE.dt.hour"
   ]
  },
  {
   "cell_type": "code",
   "execution_count": 19,
   "id": "4951900d",
   "metadata": {},
   "outputs": [
    {
     "data": {
      "text/plain": [
       "0          0\n",
       "1          0\n",
       "2         27\n",
       "3         16\n",
       "4          5\n",
       "          ..\n",
       "319068    25\n",
       "319069    38\n",
       "319070    38\n",
       "319071    35\n",
       "319072    12\n",
       "Name: OCCURRED_ON_DATE, Length: 319050, dtype: int64"
      ]
     },
     "execution_count": 19,
     "metadata": {},
     "output_type": "execute_result"
    }
   ],
   "source": [
    "crime.OCCURRED_ON_DATE.dt.minute"
   ]
  },
  {
   "cell_type": "code",
   "execution_count": 20,
   "id": "8d3c0e19",
   "metadata": {},
   "outputs": [
    {
     "data": {
      "text/html": [
       "<div>\n",
       "<style scoped>\n",
       "    .dataframe tbody tr th:only-of-type {\n",
       "        vertical-align: middle;\n",
       "    }\n",
       "\n",
       "    .dataframe tbody tr th {\n",
       "        vertical-align: top;\n",
       "    }\n",
       "\n",
       "    .dataframe thead th {\n",
       "        text-align: right;\n",
       "    }\n",
       "</style>\n",
       "<table border=\"1\" class=\"dataframe\">\n",
       "  <thead>\n",
       "    <tr style=\"text-align: right;\">\n",
       "      <th></th>\n",
       "      <th>OFFENSE_CODE</th>\n",
       "      <th>YEAR</th>\n",
       "      <th>MONTH</th>\n",
       "      <th>HOUR</th>\n",
       "      <th>Lat</th>\n",
       "      <th>Long</th>\n",
       "    </tr>\n",
       "  </thead>\n",
       "  <tbody>\n",
       "    <tr>\n",
       "      <th>count</th>\n",
       "      <td>319050.000000</td>\n",
       "      <td>319050.000000</td>\n",
       "      <td>319050.000000</td>\n",
       "      <td>319050.000000</td>\n",
       "      <td>299052.000000</td>\n",
       "      <td>299052.000000</td>\n",
       "    </tr>\n",
       "    <tr>\n",
       "      <th>mean</th>\n",
       "      <td>2317.516957</td>\n",
       "      <td>2016.560674</td>\n",
       "      <td>6.609622</td>\n",
       "      <td>13.118176</td>\n",
       "      <td>42.214373</td>\n",
       "      <td>-70.908260</td>\n",
       "    </tr>\n",
       "    <tr>\n",
       "      <th>std</th>\n",
       "      <td>1185.308921</td>\n",
       "      <td>0.996312</td>\n",
       "      <td>3.273677</td>\n",
       "      <td>6.294258</td>\n",
       "      <td>2.159845</td>\n",
       "      <td>3.493746</td>\n",
       "    </tr>\n",
       "    <tr>\n",
       "      <th>min</th>\n",
       "      <td>111.000000</td>\n",
       "      <td>2015.000000</td>\n",
       "      <td>1.000000</td>\n",
       "      <td>0.000000</td>\n",
       "      <td>-1.000000</td>\n",
       "      <td>-71.178674</td>\n",
       "    </tr>\n",
       "    <tr>\n",
       "      <th>25%</th>\n",
       "      <td>1001.000000</td>\n",
       "      <td>2016.000000</td>\n",
       "      <td>4.000000</td>\n",
       "      <td>9.000000</td>\n",
       "      <td>42.297438</td>\n",
       "      <td>-71.097135</td>\n",
       "    </tr>\n",
       "    <tr>\n",
       "      <th>50%</th>\n",
       "      <td>2907.000000</td>\n",
       "      <td>2017.000000</td>\n",
       "      <td>7.000000</td>\n",
       "      <td>14.000000</td>\n",
       "      <td>42.325538</td>\n",
       "      <td>-71.077524</td>\n",
       "    </tr>\n",
       "    <tr>\n",
       "      <th>75%</th>\n",
       "      <td>3201.000000</td>\n",
       "      <td>2017.000000</td>\n",
       "      <td>9.000000</td>\n",
       "      <td>18.000000</td>\n",
       "      <td>42.348624</td>\n",
       "      <td>-71.062467</td>\n",
       "    </tr>\n",
       "    <tr>\n",
       "      <th>max</th>\n",
       "      <td>3831.000000</td>\n",
       "      <td>2018.000000</td>\n",
       "      <td>12.000000</td>\n",
       "      <td>23.000000</td>\n",
       "      <td>42.395042</td>\n",
       "      <td>-1.000000</td>\n",
       "    </tr>\n",
       "  </tbody>\n",
       "</table>\n",
       "</div>"
      ],
      "text/plain": [
       "        OFFENSE_CODE           YEAR          MONTH           HOUR  \\\n",
       "count  319050.000000  319050.000000  319050.000000  319050.000000   \n",
       "mean     2317.516957    2016.560674       6.609622      13.118176   \n",
       "std      1185.308921       0.996312       3.273677       6.294258   \n",
       "min       111.000000    2015.000000       1.000000       0.000000   \n",
       "25%      1001.000000    2016.000000       4.000000       9.000000   \n",
       "50%      2907.000000    2017.000000       7.000000      14.000000   \n",
       "75%      3201.000000    2017.000000       9.000000      18.000000   \n",
       "max      3831.000000    2018.000000      12.000000      23.000000   \n",
       "\n",
       "                 Lat           Long  \n",
       "count  299052.000000  299052.000000  \n",
       "mean       42.214373     -70.908260  \n",
       "std         2.159845       3.493746  \n",
       "min        -1.000000     -71.178674  \n",
       "25%        42.297438     -71.097135  \n",
       "50%        42.325538     -71.077524  \n",
       "75%        42.348624     -71.062467  \n",
       "max        42.395042      -1.000000  "
      ]
     },
     "execution_count": 20,
     "metadata": {},
     "output_type": "execute_result"
    }
   ],
   "source": [
    "crime.describe() # summary information on the numeric columns"
   ]
  },
  {
   "cell_type": "code",
   "execution_count": 21,
   "id": "06bdbc66",
   "metadata": {},
   "outputs": [
    {
     "data": {
      "text/html": [
       "<div>\n",
       "<style scoped>\n",
       "    .dataframe tbody tr th:only-of-type {\n",
       "        vertical-align: middle;\n",
       "    }\n",
       "\n",
       "    .dataframe tbody tr th {\n",
       "        vertical-align: top;\n",
       "    }\n",
       "\n",
       "    .dataframe thead th {\n",
       "        text-align: right;\n",
       "    }\n",
       "</style>\n",
       "<table border=\"1\" class=\"dataframe\">\n",
       "  <thead>\n",
       "    <tr style=\"text-align: right;\">\n",
       "      <th></th>\n",
       "      <th>INCIDENT_NUMBER</th>\n",
       "      <th>OFFENSE_CODE_GROUP</th>\n",
       "      <th>OFFENSE_DESCRIPTION</th>\n",
       "      <th>DISTRICT</th>\n",
       "      <th>REPORTING_AREA</th>\n",
       "      <th>SHOOTING</th>\n",
       "      <th>DAY_OF_WEEK</th>\n",
       "      <th>UCR_PART</th>\n",
       "      <th>STREET</th>\n",
       "      <th>Location</th>\n",
       "    </tr>\n",
       "  </thead>\n",
       "  <tbody>\n",
       "    <tr>\n",
       "      <th>count</th>\n",
       "      <td>319050</td>\n",
       "      <td>319050</td>\n",
       "      <td>319050</td>\n",
       "      <td>317285</td>\n",
       "      <td>319050</td>\n",
       "      <td>1019</td>\n",
       "      <td>319050</td>\n",
       "      <td>318960</td>\n",
       "      <td>308179</td>\n",
       "      <td>319050</td>\n",
       "    </tr>\n",
       "    <tr>\n",
       "      <th>unique</th>\n",
       "      <td>282517</td>\n",
       "      <td>67</td>\n",
       "      <td>244</td>\n",
       "      <td>12</td>\n",
       "      <td>879</td>\n",
       "      <td>1</td>\n",
       "      <td>7</td>\n",
       "      <td>4</td>\n",
       "      <td>4657</td>\n",
       "      <td>18194</td>\n",
       "    </tr>\n",
       "    <tr>\n",
       "      <th>top</th>\n",
       "      <td>I162030584</td>\n",
       "      <td>Motor Vehicle Accident Response</td>\n",
       "      <td>SICK/INJURED/MEDICAL - PERSON</td>\n",
       "      <td>B2</td>\n",
       "      <td></td>\n",
       "      <td>Y</td>\n",
       "      <td>Friday</td>\n",
       "      <td>Part Three</td>\n",
       "      <td>WASHINGTON ST</td>\n",
       "      <td>(0.00000000, 0.00000000)</td>\n",
       "    </tr>\n",
       "    <tr>\n",
       "      <th>freq</th>\n",
       "      <td>13</td>\n",
       "      <td>37132</td>\n",
       "      <td>18783</td>\n",
       "      <td>49940</td>\n",
       "      <td>20250</td>\n",
       "      <td>1019</td>\n",
       "      <td>48489</td>\n",
       "      <td>158537</td>\n",
       "      <td>14192</td>\n",
       "      <td>19998</td>\n",
       "    </tr>\n",
       "  </tbody>\n",
       "</table>\n",
       "</div>"
      ],
      "text/plain": [
       "       INCIDENT_NUMBER               OFFENSE_CODE_GROUP  \\\n",
       "count           319050                           319050   \n",
       "unique          282517                               67   \n",
       "top         I162030584  Motor Vehicle Accident Response   \n",
       "freq                13                            37132   \n",
       "\n",
       "                  OFFENSE_DESCRIPTION DISTRICT REPORTING_AREA SHOOTING  \\\n",
       "count                          319050   317285         319050     1019   \n",
       "unique                            244       12            879        1   \n",
       "top     SICK/INJURED/MEDICAL - PERSON       B2                       Y   \n",
       "freq                            18783    49940          20250     1019   \n",
       "\n",
       "       DAY_OF_WEEK    UCR_PART         STREET                  Location  \n",
       "count       319050      318960         308179                    319050  \n",
       "unique           7           4           4657                     18194  \n",
       "top         Friday  Part Three  WASHINGTON ST  (0.00000000, 0.00000000)  \n",
       "freq         48489      158537          14192                     19998  "
      ]
     },
     "execution_count": 21,
     "metadata": {},
     "output_type": "execute_result"
    }
   ],
   "source": [
    "crime.describe(include='object') # summary information on the non-numeric columns"
   ]
  },
  {
   "cell_type": "code",
   "execution_count": 22,
   "id": "54219e1c",
   "metadata": {},
   "outputs": [
    {
     "data": {
      "text/plain": [
       "Index(['INCIDENT_NUMBER', 'OFFENSE_CODE', 'OFFENSE_CODE_GROUP',\n",
       "       'OFFENSE_DESCRIPTION', 'DISTRICT', 'REPORTING_AREA', 'SHOOTING',\n",
       "       'OCCURRED_ON_DATE', 'YEAR', 'MONTH', 'DAY_OF_WEEK', 'HOUR', 'UCR_PART',\n",
       "       'STREET', 'Lat', 'Long', 'Location'],\n",
       "      dtype='object')"
      ]
     },
     "execution_count": 22,
     "metadata": {},
     "output_type": "execute_result"
    }
   ],
   "source": [
    "crime.columns # Checking all columns"
   ]
  },
  {
   "cell_type": "code",
   "execution_count": 23,
   "id": "c5421785",
   "metadata": {},
   "outputs": [
    {
     "data": {
      "text/html": [
       "<div>\n",
       "<style scoped>\n",
       "    .dataframe tbody tr th:only-of-type {\n",
       "        vertical-align: middle;\n",
       "    }\n",
       "\n",
       "    .dataframe tbody tr th {\n",
       "        vertical-align: top;\n",
       "    }\n",
       "\n",
       "    .dataframe thead th {\n",
       "        text-align: right;\n",
       "    }\n",
       "</style>\n",
       "<table border=\"1\" class=\"dataframe\">\n",
       "  <thead>\n",
       "    <tr style=\"text-align: right;\">\n",
       "      <th></th>\n",
       "      <th>INCIDENT_NUMBER</th>\n",
       "      <th>OFFENSE_CODE</th>\n",
       "      <th>OFFENSE_CODE_GROUP</th>\n",
       "      <th>OFFENSE_DESCRIPTION</th>\n",
       "      <th>DISTRICT</th>\n",
       "      <th>REPORTING_AREA</th>\n",
       "      <th>SHOOTING</th>\n",
       "      <th>OCCURRED_ON_DATE</th>\n",
       "      <th>YEAR</th>\n",
       "      <th>MONTH</th>\n",
       "      <th>DAY_OF_WEEK</th>\n",
       "      <th>HOUR</th>\n",
       "      <th>UCR_PART</th>\n",
       "      <th>STREET</th>\n",
       "      <th>Lat</th>\n",
       "      <th>Long</th>\n",
       "      <th>Location</th>\n",
       "    </tr>\n",
       "  </thead>\n",
       "  <tbody>\n",
       "    <tr>\n",
       "      <th>0</th>\n",
       "      <td>False</td>\n",
       "      <td>False</td>\n",
       "      <td>False</td>\n",
       "      <td>False</td>\n",
       "      <td>False</td>\n",
       "      <td>False</td>\n",
       "      <td>True</td>\n",
       "      <td>False</td>\n",
       "      <td>False</td>\n",
       "      <td>False</td>\n",
       "      <td>False</td>\n",
       "      <td>False</td>\n",
       "      <td>False</td>\n",
       "      <td>False</td>\n",
       "      <td>False</td>\n",
       "      <td>False</td>\n",
       "      <td>False</td>\n",
       "    </tr>\n",
       "    <tr>\n",
       "      <th>1</th>\n",
       "      <td>False</td>\n",
       "      <td>False</td>\n",
       "      <td>False</td>\n",
       "      <td>False</td>\n",
       "      <td>False</td>\n",
       "      <td>False</td>\n",
       "      <td>True</td>\n",
       "      <td>False</td>\n",
       "      <td>False</td>\n",
       "      <td>False</td>\n",
       "      <td>False</td>\n",
       "      <td>False</td>\n",
       "      <td>False</td>\n",
       "      <td>False</td>\n",
       "      <td>False</td>\n",
       "      <td>False</td>\n",
       "      <td>False</td>\n",
       "    </tr>\n",
       "    <tr>\n",
       "      <th>2</th>\n",
       "      <td>False</td>\n",
       "      <td>False</td>\n",
       "      <td>False</td>\n",
       "      <td>False</td>\n",
       "      <td>False</td>\n",
       "      <td>False</td>\n",
       "      <td>True</td>\n",
       "      <td>False</td>\n",
       "      <td>False</td>\n",
       "      <td>False</td>\n",
       "      <td>False</td>\n",
       "      <td>False</td>\n",
       "      <td>False</td>\n",
       "      <td>False</td>\n",
       "      <td>False</td>\n",
       "      <td>False</td>\n",
       "      <td>False</td>\n",
       "    </tr>\n",
       "    <tr>\n",
       "      <th>3</th>\n",
       "      <td>False</td>\n",
       "      <td>False</td>\n",
       "      <td>False</td>\n",
       "      <td>False</td>\n",
       "      <td>False</td>\n",
       "      <td>False</td>\n",
       "      <td>True</td>\n",
       "      <td>False</td>\n",
       "      <td>False</td>\n",
       "      <td>False</td>\n",
       "      <td>False</td>\n",
       "      <td>False</td>\n",
       "      <td>False</td>\n",
       "      <td>False</td>\n",
       "      <td>False</td>\n",
       "      <td>False</td>\n",
       "      <td>False</td>\n",
       "    </tr>\n",
       "    <tr>\n",
       "      <th>4</th>\n",
       "      <td>False</td>\n",
       "      <td>False</td>\n",
       "      <td>False</td>\n",
       "      <td>False</td>\n",
       "      <td>False</td>\n",
       "      <td>False</td>\n",
       "      <td>True</td>\n",
       "      <td>False</td>\n",
       "      <td>False</td>\n",
       "      <td>False</td>\n",
       "      <td>False</td>\n",
       "      <td>False</td>\n",
       "      <td>False</td>\n",
       "      <td>False</td>\n",
       "      <td>False</td>\n",
       "      <td>False</td>\n",
       "      <td>False</td>\n",
       "    </tr>\n",
       "    <tr>\n",
       "      <th>...</th>\n",
       "      <td>...</td>\n",
       "      <td>...</td>\n",
       "      <td>...</td>\n",
       "      <td>...</td>\n",
       "      <td>...</td>\n",
       "      <td>...</td>\n",
       "      <td>...</td>\n",
       "      <td>...</td>\n",
       "      <td>...</td>\n",
       "      <td>...</td>\n",
       "      <td>...</td>\n",
       "      <td>...</td>\n",
       "      <td>...</td>\n",
       "      <td>...</td>\n",
       "      <td>...</td>\n",
       "      <td>...</td>\n",
       "      <td>...</td>\n",
       "    </tr>\n",
       "    <tr>\n",
       "      <th>319068</th>\n",
       "      <td>False</td>\n",
       "      <td>False</td>\n",
       "      <td>False</td>\n",
       "      <td>False</td>\n",
       "      <td>False</td>\n",
       "      <td>False</td>\n",
       "      <td>True</td>\n",
       "      <td>False</td>\n",
       "      <td>False</td>\n",
       "      <td>False</td>\n",
       "      <td>False</td>\n",
       "      <td>False</td>\n",
       "      <td>False</td>\n",
       "      <td>False</td>\n",
       "      <td>False</td>\n",
       "      <td>False</td>\n",
       "      <td>False</td>\n",
       "    </tr>\n",
       "    <tr>\n",
       "      <th>319069</th>\n",
       "      <td>False</td>\n",
       "      <td>False</td>\n",
       "      <td>False</td>\n",
       "      <td>False</td>\n",
       "      <td>False</td>\n",
       "      <td>False</td>\n",
       "      <td>True</td>\n",
       "      <td>False</td>\n",
       "      <td>False</td>\n",
       "      <td>False</td>\n",
       "      <td>False</td>\n",
       "      <td>False</td>\n",
       "      <td>False</td>\n",
       "      <td>False</td>\n",
       "      <td>False</td>\n",
       "      <td>False</td>\n",
       "      <td>False</td>\n",
       "    </tr>\n",
       "    <tr>\n",
       "      <th>319070</th>\n",
       "      <td>False</td>\n",
       "      <td>False</td>\n",
       "      <td>False</td>\n",
       "      <td>False</td>\n",
       "      <td>False</td>\n",
       "      <td>False</td>\n",
       "      <td>True</td>\n",
       "      <td>False</td>\n",
       "      <td>False</td>\n",
       "      <td>False</td>\n",
       "      <td>False</td>\n",
       "      <td>False</td>\n",
       "      <td>False</td>\n",
       "      <td>False</td>\n",
       "      <td>False</td>\n",
       "      <td>False</td>\n",
       "      <td>False</td>\n",
       "    </tr>\n",
       "    <tr>\n",
       "      <th>319071</th>\n",
       "      <td>False</td>\n",
       "      <td>False</td>\n",
       "      <td>False</td>\n",
       "      <td>False</td>\n",
       "      <td>False</td>\n",
       "      <td>False</td>\n",
       "      <td>True</td>\n",
       "      <td>False</td>\n",
       "      <td>False</td>\n",
       "      <td>False</td>\n",
       "      <td>False</td>\n",
       "      <td>False</td>\n",
       "      <td>False</td>\n",
       "      <td>False</td>\n",
       "      <td>False</td>\n",
       "      <td>False</td>\n",
       "      <td>False</td>\n",
       "    </tr>\n",
       "    <tr>\n",
       "      <th>319072</th>\n",
       "      <td>False</td>\n",
       "      <td>False</td>\n",
       "      <td>False</td>\n",
       "      <td>False</td>\n",
       "      <td>False</td>\n",
       "      <td>False</td>\n",
       "      <td>True</td>\n",
       "      <td>False</td>\n",
       "      <td>False</td>\n",
       "      <td>False</td>\n",
       "      <td>False</td>\n",
       "      <td>False</td>\n",
       "      <td>False</td>\n",
       "      <td>False</td>\n",
       "      <td>False</td>\n",
       "      <td>False</td>\n",
       "      <td>False</td>\n",
       "    </tr>\n",
       "  </tbody>\n",
       "</table>\n",
       "<p>319050 rows × 17 columns</p>\n",
       "</div>"
      ],
      "text/plain": [
       "        INCIDENT_NUMBER  OFFENSE_CODE  OFFENSE_CODE_GROUP  \\\n",
       "0                 False         False               False   \n",
       "1                 False         False               False   \n",
       "2                 False         False               False   \n",
       "3                 False         False               False   \n",
       "4                 False         False               False   \n",
       "...                 ...           ...                 ...   \n",
       "319068            False         False               False   \n",
       "319069            False         False               False   \n",
       "319070            False         False               False   \n",
       "319071            False         False               False   \n",
       "319072            False         False               False   \n",
       "\n",
       "        OFFENSE_DESCRIPTION  DISTRICT  REPORTING_AREA  SHOOTING  \\\n",
       "0                     False     False           False      True   \n",
       "1                     False     False           False      True   \n",
       "2                     False     False           False      True   \n",
       "3                     False     False           False      True   \n",
       "4                     False     False           False      True   \n",
       "...                     ...       ...             ...       ...   \n",
       "319068                False     False           False      True   \n",
       "319069                False     False           False      True   \n",
       "319070                False     False           False      True   \n",
       "319071                False     False           False      True   \n",
       "319072                False     False           False      True   \n",
       "\n",
       "        OCCURRED_ON_DATE   YEAR  MONTH  DAY_OF_WEEK   HOUR  UCR_PART  STREET  \\\n",
       "0                  False  False  False        False  False     False   False   \n",
       "1                  False  False  False        False  False     False   False   \n",
       "2                  False  False  False        False  False     False   False   \n",
       "3                  False  False  False        False  False     False   False   \n",
       "4                  False  False  False        False  False     False   False   \n",
       "...                  ...    ...    ...          ...    ...       ...     ...   \n",
       "319068             False  False  False        False  False     False   False   \n",
       "319069             False  False  False        False  False     False   False   \n",
       "319070             False  False  False        False  False     False   False   \n",
       "319071             False  False  False        False  False     False   False   \n",
       "319072             False  False  False        False  False     False   False   \n",
       "\n",
       "          Lat   Long  Location  \n",
       "0       False  False     False  \n",
       "1       False  False     False  \n",
       "2       False  False     False  \n",
       "3       False  False     False  \n",
       "4       False  False     False  \n",
       "...       ...    ...       ...  \n",
       "319068  False  False     False  \n",
       "319069  False  False     False  \n",
       "319070  False  False     False  \n",
       "319071  False  False     False  \n",
       "319072  False  False     False  \n",
       "\n",
       "[319050 rows x 17 columns]"
      ]
     },
     "execution_count": 23,
     "metadata": {},
     "output_type": "execute_result"
    }
   ],
   "source": [
    "crime.isnull() # Checking null values"
   ]
  },
  {
   "cell_type": "code",
   "execution_count": 24,
   "id": "73314d69",
   "metadata": {},
   "outputs": [
    {
     "data": {
      "text/plain": [
       "INCIDENT_NUMBER            0\n",
       "OFFENSE_CODE               0\n",
       "OFFENSE_CODE_GROUP         0\n",
       "OFFENSE_DESCRIPTION        0\n",
       "DISTRICT                1765\n",
       "                       ...  \n",
       "UCR_PART                  90\n",
       "STREET                 10871\n",
       "Lat                    19998\n",
       "Long                   19998\n",
       "Location                   0\n",
       "Length: 17, dtype: int64"
      ]
     },
     "execution_count": 24,
     "metadata": {},
     "output_type": "execute_result"
    }
   ],
   "source": [
    "np.sum(crime.isnull()) # Sum of null values in columns"
   ]
  },
  {
   "cell_type": "code",
   "execution_count": 25,
   "id": "3759d1cc",
   "metadata": {},
   "outputs": [
    {
     "data": {
      "text/plain": [
       "Index(['DISTRICT', 'SHOOTING', 'UCR_PART', 'STREET', 'Lat', 'Long'], dtype='object')"
      ]
     },
     "execution_count": 25,
     "metadata": {},
     "output_type": "execute_result"
    }
   ],
   "source": [
    "# Checking for columns with missing values\n",
    "crime.columns[np.sum(crime.isnull())!=0]"
   ]
  },
  {
   "cell_type": "code",
   "execution_count": 26,
   "id": "880dc614",
   "metadata": {},
   "outputs": [
    {
     "data": {
      "text/plain": [
       "Index(['INCIDENT_NUMBER', 'OFFENSE_CODE', 'OFFENSE_CODE_GROUP',\n",
       "       'OFFENSE_DESCRIPTION', 'REPORTING_AREA', 'OCCURRED_ON_DATE', 'YEAR',\n",
       "       'MONTH', 'DAY_OF_WEEK', 'HOUR', 'Location'],\n",
       "      dtype='object')"
      ]
     },
     "execution_count": 26,
     "metadata": {},
     "output_type": "execute_result"
    }
   ],
   "source": [
    "# Checking for columns with no missing values\n",
    "crime.columns[np.sum(crime.isnull())==0]"
   ]
  },
  {
   "cell_type": "code",
   "execution_count": 27,
   "id": "363fbff3",
   "metadata": {},
   "outputs": [
    {
     "name": "stdout",
     "output_type": "stream",
     "text": [
      "INCIDENT_NUMBER has 282517 unique values\n",
      "OFFENSE_CODE has 222 unique values\n",
      "OFFENSE_CODE_GROUP has 67 unique values\n",
      "OFFENSE_DESCRIPTION has 244 unique values\n",
      "DISTRICT has 12 unique values\n",
      "REPORTING_AREA has 879 unique values\n",
      "SHOOTING has 1 unique values\n",
      "OCCURRED_ON_DATE has 232566 unique values\n",
      "YEAR has 4 unique values\n",
      "MONTH has 12 unique values\n",
      "DAY_OF_WEEK has 7 unique values\n",
      "HOUR has 24 unique values\n",
      "UCR_PART has 4 unique values\n",
      "STREET has 4657 unique values\n",
      "Lat has 18178 unique values\n",
      "Long has 18178 unique values\n",
      "Location has 18194 unique values\n"
     ]
    }
   ],
   "source": [
    "# Checking for the number of unique values in each column\n",
    "for col in crime.columns:\n",
    "    unique_count=crime[col].nunique()\n",
    "    print(col+\" has \"+str(unique_count)+\" unique values\")"
   ]
  },
  {
   "cell_type": "markdown",
   "id": "4106f25b",
   "metadata": {},
   "source": [
    "<h1 style=\"font-size:20px\">Let's answer some questions</h1>"
   ]
  },
  {
   "cell_type": "markdown",
   "id": "557d94cb",
   "metadata": {},
   "source": [
    "___1. What offense groups are the most frequent in reported crimes?___"
   ]
  },
  {
   "cell_type": "code",
   "execution_count": 28,
   "id": "b92d0643",
   "metadata": {},
   "outputs": [
    {
     "data": {
      "text/plain": [
       "Motor Vehicle Accident Response              37132\n",
       "Larceny                                      25935\n",
       "Medical Assistance                           23540\n",
       "Investigate Person                           18749\n",
       "Other                                        18073\n",
       "                                             ...  \n",
       "HUMAN TRAFFICKING                                7\n",
       "INVESTIGATE PERSON                               4\n",
       "Biological Threat                                2\n",
       "HUMAN TRAFFICKING - INVOLUNTARY SERVITUDE        2\n",
       "Burglary - No Property Taken                     2\n",
       "Name: OFFENSE_CODE_GROUP, Length: 67, dtype: int64"
      ]
     },
     "execution_count": 28,
     "metadata": {},
     "output_type": "execute_result"
    }
   ],
   "source": [
    "crime.OFFENSE_CODE_GROUP.value_counts()"
   ]
  },
  {
   "cell_type": "code",
   "execution_count": 29,
   "id": "f0704b91",
   "metadata": {},
   "outputs": [
    {
     "data": {
      "text/plain": [
       "Motor Vehicle Accident Response    37132\n",
       "Larceny                            25935\n",
       "Medical Assistance                 23540\n",
       "Investigate Person                 18749\n",
       "Other                              18073\n",
       "Drug Violation                     16545\n",
       "Simple Assault                     15826\n",
       "Vandalism                          15414\n",
       "Verbal Disputes                    13099\n",
       "Towed                              11287\n",
       "Name: OFFENSE_CODE_GROUP, dtype: int64"
      ]
     },
     "execution_count": 29,
     "metadata": {},
     "output_type": "execute_result"
    }
   ],
   "source": [
    "crime.OFFENSE_CODE_GROUP.value_counts()[:10]"
   ]
  },
  {
   "cell_type": "code",
   "execution_count": 30,
   "id": "f8447abf",
   "metadata": {
    "scrolled": false
   },
   "outputs": [
    {
     "data": {
      "text/plain": [
       "Motor Vehicle Accident Response    11.638301\n",
       "Larceny                             8.128820\n",
       "Medical Assistance                  7.378154\n",
       "Investigate Person                  5.876508\n",
       "Other                               5.664629\n",
       "Drug Violation                      5.185708\n",
       "Simple Assault                      4.960351\n",
       "Vandalism                           4.831218\n",
       "Verbal Disputes                     4.105626\n",
       "Towed                               3.537690\n",
       "Name: OFFENSE_CODE_GROUP, dtype: float64"
      ]
     },
     "metadata": {},
     "output_type": "display_data"
    },
    {
     "data": {
      "image/png": "[encoded data removed]",
      "text/plain": [
       "<Figure size 720x432 with 1 Axes>"
      ]
     },
     "metadata": {
      "needs_background": "light"
     },
     "output_type": "display_data"
    }
   ],
   "source": [
    "offense_group_values=crime.OFFENSE_CODE_GROUP.value_counts()[:10]\n",
    "\n",
    "display(offense_group_values/crime.shape[0]*100)\n",
    "\n",
    "# Creating a bar chart of the Top 10 offense groups\n",
    "plt.figure(figsize=(10,6))\n",
    "(offense_group_values / crime.shape[0]*100).plot(kind='bar');\n",
    "plt.title('Top 10 Offense Groups (as % of all crimes)');"
   ]
  },
  {
   "cell_type": "markdown",
   "id": "958d31b7",
   "metadata": {},
   "source": [
    "**The most common crimes in terms of offense group are \"Motor Vehicle Accident Response\", and \"Larceny and vandalism\". These two offense groups account for around 20% of all reported crimes.**"
   ]
  },
  {
   "cell_type": "markdown",
   "id": "fdc7012e",
   "metadata": {},
   "source": [
    "___2. What offense groups are the least frequent in reported crimes?___"
   ]
  },
  {
   "cell_type": "code",
   "execution_count": 31,
   "id": "b16c9a38",
   "metadata": {},
   "outputs": [
    {
     "data": {
      "text/plain": [
       "Burglary - No Property Taken                  2\n",
       "HUMAN TRAFFICKING - INVOLUNTARY SERVITUDE     2\n",
       "Biological Threat                             2\n",
       "INVESTIGATE PERSON                            4\n",
       "HUMAN TRAFFICKING                             7\n",
       "Gambling                                      8\n",
       "Manslaughter                                  8\n",
       "Explosives                                   27\n",
       "Phone Call Complaints                        31\n",
       "Aircraft                                     36\n",
       "Name: OFFENSE_CODE_GROUP, dtype: int64"
      ]
     },
     "execution_count": 31,
     "metadata": {},
     "output_type": "execute_result"
    }
   ],
   "source": [
    "crime.OFFENSE_CODE_GROUP.value_counts().sort_values(ascending=True)[:10]"
   ]
  },
  {
   "cell_type": "markdown",
   "id": "d74ad049",
   "metadata": {},
   "source": [
    "**The least crimes includes \"Burglary - No Property Taken\", \"HUMAN TRAFFICKING - INVOLUNTARY SERVITUDE\", \"Biological Threat\", and \"INVESTIGATE PERSON\".**"
   ]
  },
  {
   "cell_type": "markdown",
   "id": "95cc6333",
   "metadata": {},
   "source": [
    "___3. What are the most common offenses reported?___"
   ]
  },
  {
   "cell_type": "code",
   "execution_count": 32,
   "id": "0a814125",
   "metadata": {},
   "outputs": [
    {
     "data": {
      "text/plain": [
       "SICK/INJURED/MEDICAL - PERSON                  18783\n",
       "INVESTIGATE PERSON                             18753\n",
       "M/V - LEAVING SCENE - PROPERTY DAMAGE          16323\n",
       "VANDALISM                                      15153\n",
       "ASSAULT SIMPLE - BATTERY                       14791\n",
       "                                               ...  \n",
       "KILLING OF FELON BY POLICE                         1\n",
       "AUTO THEFT - OUTSIDE - RECOVERED IN BOSTON         1\n",
       "DRUGS - GLUE INHALATION                            1\n",
       "ROBBERY - KNIFE - STREET                           1\n",
       "DRUGS - POSS CLASS D - INTENT MFR DIST DISP        1\n",
       "Name: OFFENSE_DESCRIPTION, Length: 244, dtype: int64"
      ]
     },
     "execution_count": 32,
     "metadata": {},
     "output_type": "execute_result"
    }
   ],
   "source": [
    "crime.OFFENSE_DESCRIPTION.value_counts()"
   ]
  },
  {
   "cell_type": "code",
   "execution_count": 33,
   "id": "862f2bf7",
   "metadata": {
    "scrolled": true
   },
   "outputs": [
    {
     "data": {
      "text/plain": [
       "SICK/INJURED/MEDICAL - PERSON            18783\n",
       "INVESTIGATE PERSON                       18753\n",
       "M/V - LEAVING SCENE - PROPERTY DAMAGE    16323\n",
       "VANDALISM                                15153\n",
       "ASSAULT SIMPLE - BATTERY                 14791\n",
       "VERBAL DISPUTE                           13099\n",
       "TOWED MOTOR VEHICLE                      11287\n",
       "INVESTIGATE PROPERTY                     11124\n",
       "LARCENY THEFT FROM BUILDING               9069\n",
       "THREATS TO DO BODILY HARM                 9042\n",
       "Name: OFFENSE_DESCRIPTION, dtype: int64"
      ]
     },
     "execution_count": 33,
     "metadata": {},
     "output_type": "execute_result"
    }
   ],
   "source": [
    "crime.OFFENSE_DESCRIPTION.value_counts()[:10]"
   ]
  },
  {
   "cell_type": "code",
   "execution_count": 34,
   "id": "5c34f153",
   "metadata": {
    "scrolled": false
   },
   "outputs": [
    {
     "data": {
      "text/plain": [
       "SICK/INJURED/MEDICAL - PERSON            5.887165\n",
       "INVESTIGATE PERSON                       5.877762\n",
       "M/V - LEAVING SCENE - PROPERTY DAMAGE    5.116126\n",
       "VANDALISM                                4.749412\n",
       "ASSAULT SIMPLE - BATTERY                 4.635950\n",
       "VERBAL DISPUTE                           4.105626\n",
       "TOWED MOTOR VEHICLE                      3.537690\n",
       "INVESTIGATE PROPERTY                     3.486601\n",
       "LARCENY THEFT FROM BUILDING              2.842501\n",
       "THREATS TO DO BODILY HARM                2.834039\n",
       "Name: OFFENSE_DESCRIPTION, dtype: float64"
      ]
     },
     "metadata": {},
     "output_type": "display_data"
    },
    {
     "data": {
      "image/png": "[encoded data removed]",
      "text/plain": [
       "<Figure size 720x432 with 1 Axes>"
      ]
     },
     "metadata": {
      "needs_background": "light"
     },
     "output_type": "display_data"
    }
   ],
   "source": [
    "offense_des_values = crime.OFFENSE_DESCRIPTION.value_counts()[:10]\n",
    "\n",
    "display(offense_des_values/crime.shape[0]*100)\n",
    "\n",
    "plt.figure(figsize=(10,6))\n",
    "(offense_des_values/crime.shape[0]*100).plot(kind='bar');\n",
    "plt.title('Top 10 offence descriptions (as % of all crimes)');"
   ]
  },
  {
   "cell_type": "markdown",
   "id": "46247f2e",
   "metadata": {},
   "source": [
    "**The most common crimes in terms of offense description are \"SICK/INJURED/MEDICAL - PERSON\", \"Investigate Person\", \"M/V - LEAVING SCENE - PROPERTY DAMAGE\", and \"Other\".**"
   ]
  },
  {
   "cell_type": "markdown",
   "id": "8a4296fe",
   "metadata": {},
   "source": [
    "___4. Which year has the highest number of reported crimes?___"
   ]
  },
  {
   "cell_type": "code",
   "execution_count": 35,
   "id": "d318edcb",
   "metadata": {},
   "outputs": [
    {
     "data": {
      "text/plain": [
       "YEAR\n",
       "2015     53371\n",
       "2016     99110\n",
       "2017    100884\n",
       "2018     65685\n",
       "Name: INCIDENT_NUMBER, dtype: int64"
      ]
     },
     "execution_count": 35,
     "metadata": {},
     "output_type": "execute_result"
    }
   ],
   "source": [
    "crime.groupby('YEAR').count()['INCIDENT_NUMBER']"
   ]
  },
  {
   "cell_type": "code",
   "execution_count": 36,
   "id": "6be2203f",
   "metadata": {
    "scrolled": false
   },
   "outputs": [
    {
     "data": {
      "image/png": "[encoded data removed]",
      "text/plain": [
       "<Figure size 720x432 with 1 Axes>"
      ]
     },
     "metadata": {
      "needs_background": "light"
     },
     "output_type": "display_data"
    }
   ],
   "source": [
    "plt.figure(figsize=(10,6))\n",
    "crime.groupby('YEAR').count()['INCIDENT_NUMBER'].plot(kind='bar');\n",
    "plt.title('Number of crimes');"
   ]
  },
  {
   "cell_type": "markdown",
   "id": "978880c7",
   "metadata": {},
   "source": [
    "**The year with the highest number of reported crimes in the dataset is 2017, with over 100,000 reported incidents.**"
   ]
  },
  {
   "cell_type": "markdown",
   "id": "32d05c89",
   "metadata": {},
   "source": [
    "___5. Is there a pattern in the distribution of crimes across different days of the week?___"
   ]
  },
  {
   "cell_type": "code",
   "execution_count": 37,
   "id": "9f2e470e",
   "metadata": {},
   "outputs": [
    {
     "data": {
      "text/plain": [
       "DAY_OF_WEEK\n",
       "Friday       48489\n",
       "Monday       45674\n",
       "Saturday     44816\n",
       "Sunday       40313\n",
       "Thursday     46655\n",
       "Tuesday      46376\n",
       "Wednesday    46727\n",
       "Name: INCIDENT_NUMBER, dtype: int64"
      ]
     },
     "execution_count": 37,
     "metadata": {},
     "output_type": "execute_result"
    }
   ],
   "source": [
    "crime.groupby('DAY_OF_WEEK').count()['INCIDENT_NUMBER']"
   ]
  },
  {
   "cell_type": "code",
   "execution_count": 38,
   "id": "a758b9f0",
   "metadata": {
    "scrolled": false
   },
   "outputs": [
    {
     "data": {
      "image/png": "[encoded data removed]",
      "text/plain": [
       "<Figure size 720x432 with 1 Axes>"
      ]
     },
     "metadata": {
      "needs_background": "light"
     },
     "output_type": "display_data"
    }
   ],
   "source": [
    "plt.figure(figsize=(10,6))\n",
    "crime.groupby('DAY_OF_WEEK').count()['INCIDENT_NUMBER'].plot(kind='bar');\n",
    "plt.title('Number of crimes');"
   ]
  },
  {
   "cell_type": "markdown",
   "id": "6dbedccc",
   "metadata": {},
   "source": [
    "**There appears to be a higher number of reported crimes on Thursdays,and Fridays, and a lower number on Sundays.**"
   ]
  },
  {
   "cell_type": "markdown",
   "id": "6880ce77",
   "metadata": {},
   "source": [
    "___6. Is there a pattern in the distribution of crimes across different hours of the day?___"
   ]
  },
  {
   "cell_type": "code",
   "execution_count": 39,
   "id": "f81c1cb9",
   "metadata": {
    "scrolled": true
   },
   "outputs": [
    {
     "data": {
      "text/plain": [
       "HOUR\n",
       "17    20762\n",
       "18    20301\n",
       "16    19870\n",
       "12    18676\n",
       "19    17587\n",
       "Name: INCIDENT_NUMBER, dtype: int64"
      ]
     },
     "execution_count": 39,
     "metadata": {},
     "output_type": "execute_result"
    }
   ],
   "source": [
    "crime.groupby('HOUR').count()['INCIDENT_NUMBER'].nlargest(5)"
   ]
  },
  {
   "cell_type": "code",
   "execution_count": 40,
   "id": "27d2f778",
   "metadata": {
    "scrolled": false
   },
   "outputs": [
    {
     "data": {
      "image/png": "[encoded data removed]",
      "text/plain": [
       "<Figure size 720x432 with 1 Axes>"
      ]
     },
     "metadata": {
      "needs_background": "light"
     },
     "output_type": "display_data"
    }
   ],
   "source": [
    "plt.figure(figsize=(10,6))\n",
    "crime.groupby('HOUR').count()['INCIDENT_NUMBER'].plot(kind='bar');"
   ]
  },
  {
   "cell_type": "markdown",
   "id": "76c364b6",
   "metadata": {},
   "source": [
    "**There are more crimes reported during the evening and nighttime hours, with a peak around 4-6pm and another smaller peak around midnight.**"
   ]
  },
  {
   "cell_type": "markdown",
   "id": "e36b8515",
   "metadata": {},
   "source": [
    "___7. On which days and during which hours are the most number of crimes reported?___"
   ]
  },
  {
   "cell_type": "code",
   "execution_count": 41,
   "id": "1973955a",
   "metadata": {},
   "outputs": [
    {
     "data": {
      "text/html": [
       "<div>\n",
       "<style scoped>\n",
       "    .dataframe tbody tr th:only-of-type {\n",
       "        vertical-align: middle;\n",
       "    }\n",
       "\n",
       "    .dataframe tbody tr th {\n",
       "        vertical-align: top;\n",
       "    }\n",
       "\n",
       "    .dataframe thead th {\n",
       "        text-align: right;\n",
       "    }\n",
       "</style>\n",
       "<table border=\"1\" class=\"dataframe\">\n",
       "  <thead>\n",
       "    <tr style=\"text-align: right;\">\n",
       "      <th>DAY_OF_WEEK</th>\n",
       "      <th>Friday</th>\n",
       "      <th>Monday</th>\n",
       "      <th>Saturday</th>\n",
       "      <th>Sunday</th>\n",
       "      <th>Thursday</th>\n",
       "      <th>Tuesday</th>\n",
       "      <th>Wednesday</th>\n",
       "    </tr>\n",
       "    <tr>\n",
       "      <th>HOUR</th>\n",
       "      <th></th>\n",
       "      <th></th>\n",
       "      <th></th>\n",
       "      <th></th>\n",
       "      <th></th>\n",
       "      <th></th>\n",
       "      <th></th>\n",
       "    </tr>\n",
       "  </thead>\n",
       "  <tbody>\n",
       "    <tr>\n",
       "      <th>0</th>\n",
       "      <td>2161</td>\n",
       "      <td>2000</td>\n",
       "      <td>2612</td>\n",
       "      <td>2400</td>\n",
       "      <td>2039</td>\n",
       "      <td>1897</td>\n",
       "      <td>1997</td>\n",
       "    </tr>\n",
       "    <tr>\n",
       "      <th>1</th>\n",
       "      <td>1275</td>\n",
       "      <td>1058</td>\n",
       "      <td>1855</td>\n",
       "      <td>2043</td>\n",
       "      <td>1077</td>\n",
       "      <td>1017</td>\n",
       "      <td>942</td>\n",
       "    </tr>\n",
       "    <tr>\n",
       "      <th>2</th>\n",
       "      <td>952</td>\n",
       "      <td>846</td>\n",
       "      <td>1827</td>\n",
       "      <td>1855</td>\n",
       "      <td>774</td>\n",
       "      <td>641</td>\n",
       "      <td>798</td>\n",
       "    </tr>\n",
       "    <tr>\n",
       "      <th>3</th>\n",
       "      <td>532</td>\n",
       "      <td>583</td>\n",
       "      <td>957</td>\n",
       "      <td>1119</td>\n",
       "      <td>526</td>\n",
       "      <td>460</td>\n",
       "      <td>412</td>\n",
       "    </tr>\n",
       "    <tr>\n",
       "      <th>4</th>\n",
       "      <td>441</td>\n",
       "      <td>386</td>\n",
       "      <td>672</td>\n",
       "      <td>704</td>\n",
       "      <td>436</td>\n",
       "      <td>399</td>\n",
       "      <td>370</td>\n",
       "    </tr>\n",
       "    <tr>\n",
       "      <th>...</th>\n",
       "      <td>...</td>\n",
       "      <td>...</td>\n",
       "      <td>...</td>\n",
       "      <td>...</td>\n",
       "      <td>...</td>\n",
       "      <td>...</td>\n",
       "      <td>...</td>\n",
       "    </tr>\n",
       "    <tr>\n",
       "      <th>19</th>\n",
       "      <td>2564</td>\n",
       "      <td>2606</td>\n",
       "      <td>2301</td>\n",
       "      <td>2114</td>\n",
       "      <td>2510</td>\n",
       "      <td>2768</td>\n",
       "      <td>2724</td>\n",
       "    </tr>\n",
       "    <tr>\n",
       "      <th>20</th>\n",
       "      <td>2307</td>\n",
       "      <td>2319</td>\n",
       "      <td>2131</td>\n",
       "      <td>2109</td>\n",
       "      <td>2349</td>\n",
       "      <td>2369</td>\n",
       "      <td>2265</td>\n",
       "    </tr>\n",
       "    <tr>\n",
       "      <th>21</th>\n",
       "      <td>2089</td>\n",
       "      <td>2003</td>\n",
       "      <td>2077</td>\n",
       "      <td>1902</td>\n",
       "      <td>2070</td>\n",
       "      <td>1925</td>\n",
       "      <td>2043</td>\n",
       "    </tr>\n",
       "    <tr>\n",
       "      <th>22</th>\n",
       "      <td>2160</td>\n",
       "      <td>1634</td>\n",
       "      <td>2113</td>\n",
       "      <td>1728</td>\n",
       "      <td>1795</td>\n",
       "      <td>1757</td>\n",
       "      <td>1738</td>\n",
       "    </tr>\n",
       "    <tr>\n",
       "      <th>23</th>\n",
       "      <td>1936</td>\n",
       "      <td>1243</td>\n",
       "      <td>1951</td>\n",
       "      <td>1380</td>\n",
       "      <td>1492</td>\n",
       "      <td>1296</td>\n",
       "      <td>1298</td>\n",
       "    </tr>\n",
       "  </tbody>\n",
       "</table>\n",
       "<p>24 rows × 7 columns</p>\n",
       "</div>"
      ],
      "text/plain": [
       "DAY_OF_WEEK  Friday  Monday  Saturday  Sunday  Thursday  Tuesday  Wednesday\n",
       "HOUR                                                                       \n",
       "0              2161    2000      2612    2400      2039     1897       1997\n",
       "1              1275    1058      1855    2043      1077     1017        942\n",
       "2               952     846      1827    1855       774      641        798\n",
       "3               532     583       957    1119       526      460        412\n",
       "4               441     386       672     704       436      399        370\n",
       "...             ...     ...       ...     ...       ...      ...        ...\n",
       "19             2564    2606      2301    2114      2510     2768       2724\n",
       "20             2307    2319      2131    2109      2349     2369       2265\n",
       "21             2089    2003      2077    1902      2070     1925       2043\n",
       "22             2160    1634      2113    1728      1795     1757       1738\n",
       "23             1936    1243      1951    1380      1492     1296       1298\n",
       "\n",
       "[24 rows x 7 columns]"
      ]
     },
     "execution_count": 41,
     "metadata": {},
     "output_type": "execute_result"
    }
   ],
   "source": [
    "crime.groupby(['HOUR','DAY_OF_WEEK']).count()['INCIDENT_NUMBER'].unstack()"
   ]
  },
  {
   "cell_type": "code",
   "execution_count": 42,
   "id": "ee8a8ca0",
   "metadata": {},
   "outputs": [],
   "source": [
    "week_and_hour = crime.groupby(['HOUR','DAY_OF_WEEK']).count()['INCIDENT_NUMBER'].unstack()"
   ]
  },
  {
   "cell_type": "code",
   "execution_count": 43,
   "id": "d67afb97",
   "metadata": {},
   "outputs": [],
   "source": [
    "week_and_hour.columns = ['Monday', 'Tuesday', 'Wednesday', 'Thursday', 'Friday', 'Saturday', 'Sunday']"
   ]
  },
  {
   "cell_type": "code",
   "execution_count": 44,
   "id": "1ad9adb6",
   "metadata": {
    "scrolled": false
   },
   "outputs": [
    {
     "data": {
      "text/plain": [
       "Text(0.5, 1.0, 'Count of crimes committed by Weekdays and Hours')"
      ]
     },
     "execution_count": 44,
     "metadata": {},
     "output_type": "execute_result"
    },
    {
     "data": {
      "image/png": "[encoded data removed]",
      "text/plain": [
       "<Figure size 1296x576 with 2 Axes>"
      ]
     },
     "metadata": {
      "needs_background": "light"
     },
     "output_type": "display_data"
    }
   ],
   "source": [
    "plt.figure(figsize=(18,8))\n",
    "sns.heatmap(week_and_hour, cmap=sns.color_palette(\"rocket_r\", as_cmap=True),\n",
    "            linewidth=.03, linecolor=\"Black\", annot=True, fmt=\".0f\" )\n",
    "plt.title('Count of crimes committed by Weekdays and Hours')"
   ]
  },
  {
   "cell_type": "markdown",
   "id": "c4148ec6",
   "metadata": {},
   "source": [
    "**The most crimes are committed on Fridays,and Saturdays during the evening and nighttime hours.**"
   ]
  },
  {
   "cell_type": "markdown",
   "id": "dc758800",
   "metadata": {},
   "source": [
    "___8. Which streets and during which hours have the highest number of reported crimes?___"
   ]
  },
  {
   "cell_type": "code",
   "execution_count": 45,
   "id": "c91f437b",
   "metadata": {
    "scrolled": false
   },
   "outputs": [
    {
     "data": {
      "text/plain": [
       "WASHINGTON ST        4.448206\n",
       "BLUE HILL AVE        2.442877\n",
       "BOYLSTON ST          2.262968\n",
       "DORCHESTER AVE       1.613540\n",
       "TREMONT ST           1.503213\n",
       "MASSACHUSETTS AVE    1.475004\n",
       "HARRISON AVE         1.444601\n",
       "CENTRE ST            1.373766\n",
       "COMMONWEALTH AVE     1.295722\n",
       "HYDE PARK AVE        1.087604\n",
       "Name: STREET, dtype: float64"
      ]
     },
     "metadata": {},
     "output_type": "display_data"
    },
    {
     "data": {
      "text/plain": [
       "Text(0.5, 1.0, 'Crimes count by Top 10 Streets')"
      ]
     },
     "execution_count": 45,
     "metadata": {},
     "output_type": "execute_result"
    },
    {
     "data": {
      "image/png": "[encoded data removed]",
      "text/plain": [
       "<Figure size 720x432 with 1 Axes>"
      ]
     },
     "metadata": {
      "needs_background": "light"
     },
     "output_type": "display_data"
    }
   ],
   "source": [
    "crime.STREET.value_counts()[:10]\n",
    "\n",
    "street_crime_values = crime.STREET.value_counts()[:10]\n",
    "\n",
    "display(street_crime_values/crime.shape[0]*100)\n",
    "\n",
    "plt.figure(figsize=(10,6))\n",
    "(street_crime_values/crime.shape[0]*100).plot(kind='bar')\n",
    "plt.title('Crimes count by Top 10 Streets')"
   ]
  },
  {
   "cell_type": "code",
   "execution_count": 46,
   "id": "b4911647",
   "metadata": {},
   "outputs": [],
   "source": [
    "# Get the top 5 streets by crime count\n",
    "top_5_streets = crime.STREET.value_counts().nlargest(5).index.tolist()"
   ]
  },
  {
   "cell_type": "code",
   "execution_count": 47,
   "id": "b52dbba3",
   "metadata": {},
   "outputs": [],
   "source": [
    "# Filter the crime DataFrame to include only the top 5 streets\n",
    "crime_top5 = crime[crime['STREET'].isin(top_5_streets)]"
   ]
  },
  {
   "cell_type": "code",
   "execution_count": 48,
   "id": "204ea4cc",
   "metadata": {
    "scrolled": false
   },
   "outputs": [
    {
     "data": {
      "image/png": "[encoded data removed]",
      "text/plain": [
       "<Figure size 1296x576 with 2 Axes>"
      ]
     },
     "metadata": {
      "needs_background": "light"
     },
     "output_type": "display_data"
    }
   ],
   "source": [
    "# Group the filtered DataFrame by hour and street and sort by crime count in descending order\n",
    "crime_by_hour_top5 = crime_top5.groupby(['HOUR', 'STREET']).size().unstack().\\\n",
    "                      loc[:, top_5_streets].sort_values(by=top_5_streets, ascending=False)\n",
    "# Create the heatmap\n",
    "plt.figure(figsize=(18,8))\n",
    "sns.heatmap(crime_by_hour_top5, cmap=sns.color_palette(\"flare\", as_cmap=True),\n",
    "            linewidth=.03, linecolor=\"Black\", annot=True, fmt=\".0f\" )\n",
    "plt.title('Count of crimes committed by hours (Top 5 Streets)')\n",
    "plt.show()"
   ]
  },
  {
   "cell_type": "markdown",
   "id": "fbb49e5b",
   "metadata": {},
   "source": [
    "**The streets with the highest number of reported crimes are Washington St, Blue Hill Ave, and Boylston St. The majority of these crimes occur during the evening and nighttime hours, with a peak around 4-6pm and another smaller peak around midnight.**"
   ]
  },
  {
   "cell_type": "markdown",
   "id": "9bd1dd37",
   "metadata": {},
   "source": [
    "___9. Which districts had a higher number of gun-related crimes (shootings)?___"
   ]
  },
  {
   "cell_type": "code",
   "execution_count": 49,
   "id": "2629284e",
   "metadata": {
    "scrolled": true
   },
   "outputs": [
    {
     "data": {
      "text/html": [
       "<div>\n",
       "<style scoped>\n",
       "    .dataframe tbody tr th:only-of-type {\n",
       "        vertical-align: middle;\n",
       "    }\n",
       "\n",
       "    .dataframe tbody tr th {\n",
       "        vertical-align: top;\n",
       "    }\n",
       "\n",
       "    .dataframe thead th {\n",
       "        text-align: right;\n",
       "    }\n",
       "</style>\n",
       "<table border=\"1\" class=\"dataframe\">\n",
       "  <thead>\n",
       "    <tr style=\"text-align: right;\">\n",
       "      <th></th>\n",
       "      <th>District</th>\n",
       "      <th>Number of shooting incidents</th>\n",
       "    </tr>\n",
       "  </thead>\n",
       "  <tbody>\n",
       "    <tr>\n",
       "      <th>0</th>\n",
       "      <td>B2</td>\n",
       "      <td>344</td>\n",
       "    </tr>\n",
       "    <tr>\n",
       "      <th>1</th>\n",
       "      <td>B3</td>\n",
       "      <td>221</td>\n",
       "    </tr>\n",
       "    <tr>\n",
       "      <th>2</th>\n",
       "      <td>C11</td>\n",
       "      <td>187</td>\n",
       "    </tr>\n",
       "    <tr>\n",
       "      <th>3</th>\n",
       "      <td>E13</td>\n",
       "      <td>65</td>\n",
       "    </tr>\n",
       "    <tr>\n",
       "      <th>4</th>\n",
       "      <td>D4</td>\n",
       "      <td>56</td>\n",
       "    </tr>\n",
       "  </tbody>\n",
       "</table>\n",
       "</div>"
      ],
      "text/plain": [
       "  District  Number of shooting incidents\n",
       "0       B2                           344\n",
       "1       B3                           221\n",
       "2      C11                           187\n",
       "3      E13                            65\n",
       "4       D4                            56"
      ]
     },
     "execution_count": 49,
     "metadata": {},
     "output_type": "execute_result"
    }
   ],
   "source": [
    "shooting_by_district = crime.groupby('DISTRICT')['SHOOTING'].count().nlargest(5).reset_index()\n",
    "shooting_by_district.columns = ['District', 'Number of shooting incidents']\n",
    "shooting_by_district"
   ]
  },
  {
   "cell_type": "code",
   "execution_count": 50,
   "id": "540ad9bd",
   "metadata": {
    "scrolled": false
   },
   "outputs": [
    {
     "data": {
      "text/plain": [
       "Text(0.5, 1.0, 'Number of shooting incidents in districts')"
      ]
     },
     "execution_count": 50,
     "metadata": {},
     "output_type": "execute_result"
    },
    {
     "data": {
      "image/png": "[encoded data removed]",
      "text/plain": [
       "<Figure size 1296x576 with 2 Axes>"
      ]
     },
     "metadata": {
      "needs_background": "light"
     },
     "output_type": "display_data"
    }
   ],
   "source": [
    "plt.figure(figsize=(18,8))\n",
    "shooting_and_month = crime.groupby(['MONTH', 'DISTRICT']).count()['SHOOTING'].unstack()\n",
    "sns.heatmap(shooting_and_month, cmap=sns.color_palette(\"rocket_r\", as_cmap=True),\n",
    "            linewidth=.03, linecolor=\"White\", annot=True, fmt=\".0f\" )\n",
    "plt.title('Number of shooting incidents in districts')"
   ]
  },
  {
   "cell_type": "markdown",
   "id": "8a53d288",
   "metadata": {},
   "source": [
    "**The district \"B2\" has the highest number of shooting incidents with a count of 339. This is followed by \"B3\" with 215 shooting incidents, and \"C11\" with 181 shooting incidents.\n",
    "It is important to note that these districts are all located in Boston, which suggests that Boston has a higher rate of shooting incidents compared to other cities.**"
   ]
  },
  {
   "cell_type": "markdown",
   "id": "459b03ba",
   "metadata": {},
   "source": [
    "___10. In which districts were the highest number of crimes reported on a yearly basis?___"
   ]
  },
  {
   "cell_type": "code",
   "execution_count": 51,
   "id": "18041924",
   "metadata": {},
   "outputs": [],
   "source": [
    "# Get the districts by crime count\n",
    "crime_by_districts = crime.DISTRICT.value_counts()"
   ]
  },
  {
   "cell_type": "code",
   "execution_count": 52,
   "id": "1a50202a",
   "metadata": {},
   "outputs": [
    {
     "data": {
      "text/plain": [
       "B2     49940\n",
       "C11    42528\n",
       "D4     41914\n",
       "A1     35710\n",
       "B3     35441\n",
       "       ...  \n",
       "E13    17534\n",
       "E18    17347\n",
       "A7     13544\n",
       "E5     13238\n",
       "A15     6505\n",
       "Name: DISTRICT, Length: 12, dtype: int64"
      ]
     },
     "execution_count": 52,
     "metadata": {},
     "output_type": "execute_result"
    }
   ],
   "source": [
    "crime_by_districts"
   ]
  },
  {
   "cell_type": "code",
   "execution_count": 53,
   "id": "7d8e7e6e",
   "metadata": {},
   "outputs": [],
   "source": [
    "district_and_year = crime.groupby(['DISTRICT', 'YEAR']).count()['INCIDENT_NUMBER'].unstack()"
   ]
  },
  {
   "cell_type": "code",
   "execution_count": 54,
   "id": "b667c92b",
   "metadata": {
    "scrolled": false
   },
   "outputs": [
    {
     "data": {
      "text/plain": [
       "Text(0.5, 1.0, 'Yearly count of crimes committed in districts')"
      ]
     },
     "execution_count": 54,
     "metadata": {},
     "output_type": "execute_result"
    },
    {
     "data": {
      "image/png": "[encoded data removed]",
      "text/plain": [
       "<Figure size 864x432 with 2 Axes>"
      ]
     },
     "metadata": {
      "needs_background": "light"
     },
     "output_type": "display_data"
    }
   ],
   "source": [
    "plt.figure(figsize=(12,6))\n",
    "\n",
    "district_and_year = crime.groupby(['DISTRICT', 'YEAR']).count()['INCIDENT_NUMBER'].unstack()\n",
    "sns.heatmap(district_and_year, cmap=sns.color_palette(\"rocket_r\", as_cmap=True),\n",
    "            linewidth=.03, linecolor=\"White\", annot=True, fmt=\".0f\" )\n",
    "plt.title('Yearly count of crimes committed in districts')"
   ]
  },
  {
   "cell_type": "markdown",
   "id": "5ed17e50",
   "metadata": {},
   "source": [
    "**The districts with the highest number of reported crimes vary from year to year, but generally include District D4 (South End), District B2 (Roxbury), and District C11 (Dorchester).**"
   ]
  },
  {
   "cell_type": "markdown",
   "id": "b57096a0",
   "metadata": {},
   "source": [
    "___11. In which months do the highest number of crimes occur on average?___"
   ]
  },
  {
   "cell_type": "code",
   "execution_count": 55,
   "id": "80e3f2ab",
   "metadata": {},
   "outputs": [
    {
     "data": {
      "text/html": [
       "<div>\n",
       "<style scoped>\n",
       "    .dataframe tbody tr th:only-of-type {\n",
       "        vertical-align: middle;\n",
       "    }\n",
       "\n",
       "    .dataframe tbody tr th {\n",
       "        vertical-align: top;\n",
       "    }\n",
       "\n",
       "    .dataframe thead th {\n",
       "        text-align: right;\n",
       "    }\n",
       "</style>\n",
       "<table border=\"1\" class=\"dataframe\">\n",
       "  <thead>\n",
       "    <tr style=\"text-align: right;\">\n",
       "      <th>YEAR</th>\n",
       "      <th>2015</th>\n",
       "      <th>2016</th>\n",
       "      <th>2017</th>\n",
       "      <th>2018</th>\n",
       "    </tr>\n",
       "    <tr>\n",
       "      <th>MONTH</th>\n",
       "      <th></th>\n",
       "      <th></th>\n",
       "      <th></th>\n",
       "      <th></th>\n",
       "    </tr>\n",
       "  </thead>\n",
       "  <tbody>\n",
       "    <tr>\n",
       "      <th>1</th>\n",
       "      <td>NaN</td>\n",
       "      <td>7835.0</td>\n",
       "      <td>7991.0</td>\n",
       "      <td>7782.0</td>\n",
       "    </tr>\n",
       "    <tr>\n",
       "      <th>2</th>\n",
       "      <td>NaN</td>\n",
       "      <td>7307.0</td>\n",
       "      <td>7408.0</td>\n",
       "      <td>6937.0</td>\n",
       "    </tr>\n",
       "    <tr>\n",
       "      <th>3</th>\n",
       "      <td>NaN</td>\n",
       "      <td>8199.0</td>\n",
       "      <td>8179.0</td>\n",
       "      <td>7768.0</td>\n",
       "    </tr>\n",
       "    <tr>\n",
       "      <th>4</th>\n",
       "      <td>NaN</td>\n",
       "      <td>8101.0</td>\n",
       "      <td>8069.0</td>\n",
       "      <td>7916.0</td>\n",
       "    </tr>\n",
       "    <tr>\n",
       "      <th>5</th>\n",
       "      <td>NaN</td>\n",
       "      <td>8578.0</td>\n",
       "      <td>8715.0</td>\n",
       "      <td>8906.0</td>\n",
       "    </tr>\n",
       "    <tr>\n",
       "      <th>...</th>\n",
       "      <td>...</td>\n",
       "      <td>...</td>\n",
       "      <td>...</td>\n",
       "      <td>...</td>\n",
       "    </tr>\n",
       "    <tr>\n",
       "      <th>8</th>\n",
       "      <td>8340.0</td>\n",
       "      <td>8938.0</td>\n",
       "      <td>9206.0</td>\n",
       "      <td>8337.0</td>\n",
       "    </tr>\n",
       "    <tr>\n",
       "      <th>9</th>\n",
       "      <td>8411.0</td>\n",
       "      <td>8521.0</td>\n",
       "      <td>8940.0</td>\n",
       "      <td>667.0</td>\n",
       "    </tr>\n",
       "    <tr>\n",
       "      <th>10</th>\n",
       "      <td>8305.0</td>\n",
       "      <td>8582.0</td>\n",
       "      <td>8846.0</td>\n",
       "      <td>NaN</td>\n",
       "    </tr>\n",
       "    <tr>\n",
       "      <th>11</th>\n",
       "      <td>7818.0</td>\n",
       "      <td>7922.0</td>\n",
       "      <td>7935.0</td>\n",
       "      <td>NaN</td>\n",
       "    </tr>\n",
       "    <tr>\n",
       "      <th>12</th>\n",
       "      <td>7987.0</td>\n",
       "      <td>7951.0</td>\n",
       "      <td>7535.0</td>\n",
       "      <td>NaN</td>\n",
       "    </tr>\n",
       "  </tbody>\n",
       "</table>\n",
       "<p>12 rows × 4 columns</p>\n",
       "</div>"
      ],
      "text/plain": [
       "YEAR     2015    2016    2017    2018\n",
       "MONTH                                \n",
       "1         NaN  7835.0  7991.0  7782.0\n",
       "2         NaN  7307.0  7408.0  6937.0\n",
       "3         NaN  8199.0  8179.0  7768.0\n",
       "4         NaN  8101.0  8069.0  7916.0\n",
       "5         NaN  8578.0  8715.0  8906.0\n",
       "...       ...     ...     ...     ...\n",
       "8      8340.0  8938.0  9206.0  8337.0\n",
       "9      8411.0  8521.0  8940.0   667.0\n",
       "10     8305.0  8582.0  8846.0     NaN\n",
       "11     7818.0  7922.0  7935.0     NaN\n",
       "12     7987.0  7951.0  7535.0     NaN\n",
       "\n",
       "[12 rows x 4 columns]"
      ]
     },
     "execution_count": 55,
     "metadata": {},
     "output_type": "execute_result"
    }
   ],
   "source": [
    "year_and_month = crime.groupby(['MONTH', 'YEAR']).count()['INCIDENT_NUMBER'].unstack().round()\n",
    "year_and_month"
   ]
  },
  {
   "cell_type": "code",
   "execution_count": 56,
   "id": "39e68e1b",
   "metadata": {},
   "outputs": [
    {
     "data": {
      "image/png": "[encoded data removed]",
      "text/plain": [
       "<Figure size 720x432 with 1 Axes>"
      ]
     },
     "metadata": {
      "needs_background": "light"
     },
     "output_type": "display_data"
    }
   ],
   "source": [
    "plt.figure(figsize=(10,6))\n",
    "crime.groupby('MONTH').count()['INCIDENT_NUMBER'].plot(kind='bar');\n",
    "plt.title('Monthly avg number of crimes');"
   ]
  },
  {
   "cell_type": "markdown",
   "id": "54769af0",
   "metadata": {},
   "source": [
    "**On average, the most crimes occur during the summer months of June, July, and August.**"
   ]
  }
 ],
 "metadata": {
  "kernelspec": {
   "display_name": "Python 3 (ipykernel)",
   "language": "python",
   "name": "python3"
  },
  "language_info": {
   "codemirror_mode": {
    "name": "ipython",
    "version": 3
   },
   "file_extension": ".py",
   "mimetype": "text/x-python",
   "name": "python",
   "nbconvert_exporter": "python",
   "pygments_lexer": "ipython3",
   "version": "3.9.7"
  }
 },
 "nbformat": 4,
 "nbformat_minor": 5
}
